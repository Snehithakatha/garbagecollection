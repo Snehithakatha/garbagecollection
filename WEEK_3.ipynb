{
  "nbformat": 4,
  "nbformat_minor": 0,
  "metadata": {
    "colab": {
      "provenance": [],
      "mount_file_id": "1vy2OdCkx5B0doszmAwVHKfg-kXX82Eyi",
      "authorship_tag": "ABX9TyPvC4LjAQT7umL+7fIliiCj",
      "include_colab_link": true
    },
    "kernelspec": {
      "name": "python3",
      "display_name": "Python 3"
    },
    "language_info": {
      "name": "python"
    }
  },
  "cells": [
    {
      "cell_type": "markdown",
      "metadata": {
        "id": "view-in-github",
        "colab_type": "text"
      },
      "source": [
        "<a href=\"https://colab.research.google.com/github/Snehithakatha/garbagecollection/blob/main/WEEK_3.ipynb\" target=\"_parent\"><img src=\"https://colab.research.google.com/assets/colab-badge.svg\" alt=\"Open In Colab\"/></a>"
      ]
    },
    {
      "cell_type": "code",
      "source": [
        "import os\n",
        "import numpy as np\n",
        "import tensorflow as tf\n",
        "import matplotlib.pyplot as plt\n",
        "import seaborn as sns\n",
        "from tensorflow.keras import layers, models\n",
        "from sklearn.utils.class_weight import compute_class_weight\n",
        "from sklearn.metrics import confusion_matrix, classification_report"
      ],
      "metadata": {
        "id": "ZQpnnfKETKyy"
      },
      "execution_count": 2,
      "outputs": []
    },
    {
      "cell_type": "code",
      "source": [
        "from google.colab import drive\n",
        "drive.mount('/content/drive')\n",
        "\n",
        "dataset_dir = '/content/drive/MyDrive/TrashType_Image_Dataset'\n",
        "image_size = (256, 256)\n",
        "batch_size = 32\n",
        "seed = 42"
      ],
      "metadata": {
        "colab": {
          "base_uri": "https://localhost:8080/"
        },
        "id": "pvikWp-GXvIi",
        "outputId": "3ca0a0f4-05b2-4bab-97f5-0baef1800e1d"
      },
      "execution_count": 3,
      "outputs": [
        {
          "output_type": "stream",
          "name": "stdout",
          "text": [
            "Drive already mounted at /content/drive; to attempt to forcibly remount, call drive.mount(\"/content/drive\", force_remount=True).\n"
          ]
        }
      ]
    },
    {
      "cell_type": "code",
      "source": [
        "train_ds = tf.keras.utils.image_dataset_from_directory(\n",
        "    dataset_dir,\n",
        "    validation_split=0.2,\n",
        "    subset=\"training\",\n",
        "    seed=seed,\n",
        "    image_size=image_size,\n",
        "    batch_size=batch_size\n",
        ")\n",
        "\n",
        "val_ds = tf.keras.utils.image_dataset_from_directory(\n",
        "    dataset_dir,\n",
        "    validation_split=0.2,\n",
        "    subset=\"validation\",\n",
        "    seed=seed,\n",
        "    image_size=image_size,\n",
        "    batch_size=batch_size\n",
        ")"
      ],
      "metadata": {
        "colab": {
          "base_uri": "https://localhost:8080/"
        },
        "id": "rt-QZY_JX3jV",
        "outputId": "c635d959-9c84-4b6e-d4aa-8f83cce4656f"
      },
      "execution_count": 4,
      "outputs": [
        {
          "output_type": "stream",
          "name": "stdout",
          "text": [
            "Found 18 files belonging to 1 classes.\n",
            "Using 15 files for training.\n",
            "Found 18 files belonging to 1 classes.\n",
            "Using 3 files for validation.\n"
          ]
        }
      ]
    },
    {
      "cell_type": "code",
      "source": [
        "class_names = train_ds.class_names\n",
        "num_classes = len(class_names)\n",
        "print(\"Classes:\", class_names)\n"
      ],
      "metadata": {
        "colab": {
          "base_uri": "https://localhost:8080/"
        },
        "id": "sp_LtXwMX6_p",
        "outputId": "ef753ccd-9775-4928-b464-2fe4e24a6d98"
      },
      "execution_count": 5,
      "outputs": [
        {
          "output_type": "stream",
          "name": "stdout",
          "text": [
            "Classes: ['plastic']\n"
          ]
        }
      ]
    },
    {
      "cell_type": "code",
      "source": [
        "val_batches = tf.data.experimental.cardinality(val_ds).numpy()\n",
        "split_index = max(1, val_batches // 2)\n",
        "test_ds = val_ds.take(split_index)\n",
        "val_ds = val_ds.skip(split_index)\n",
        "\n",
        "train_ds = train_ds.cache().shuffle(1000).prefetch(tf.data.AUTOTUNE)\n",
        "val_ds = val_ds.cache().prefetch(tf.data.AUTOTUNE)\n",
        "test_ds = test_ds.cache().prefetch(tf.data.AUTOTUNE)"
      ],
      "metadata": {
        "id": "qyydO4EoX7Ue"
      },
      "execution_count": 6,
      "outputs": []
    },
    {
      "cell_type": "code",
      "source": [
        "all_labels = []\n",
        "for _, labels in train_ds:\n",
        "    all_labels.extend(labels.numpy())\n",
        "\n",
        "class_weight_array = compute_class_weight(\n",
        "    class_weight=\"balanced\",\n",
        "    classes=np.unique(all_labels),\n",
        "    y=all_labels\n",
        ")\n",
        "class_weights = {i: w for i, w in enumerate(class_weight_array)}\n",
        "print(\"Class Weights:\", class_weights)"
      ],
      "metadata": {
        "colab": {
          "base_uri": "https://localhost:8080/"
        },
        "id": "cB_NsoIoYB5D",
        "outputId": "6cca2bdd-d47a-4dc7-a165-989047d4e1b7"
      },
      "execution_count": 7,
      "outputs": [
        {
          "output_type": "stream",
          "name": "stdout",
          "text": [
            "Class Weights: {0: np.float64(1.0)}\n"
          ]
        }
      ]
    },
    {
      "cell_type": "code",
      "source": [
        "data_augmentation = models.Sequential([\n",
        "    layers.RandomFlip(\"horizontal\"),\n",
        "    layers.RandomRotation(0.15),\n",
        "    layers.RandomZoom(0.2),\n",
        "    layers.RandomTranslation(0.1, 0.1),\n",
        "    layers.RandomContrast(0.1),\n",
        "    layers.RandomBrightness(0.2)\n",
        "])"
      ],
      "metadata": {
        "id": "VsQur2H8YD3G"
      },
      "execution_count": 8,
      "outputs": []
    },
    {
      "cell_type": "code",
      "source": [
        "base_model = tf.keras.applications.EfficientNetV2B0(\n",
        "    include_top=False,\n",
        "    input_shape=(256, 256, 3),\n",
        "    weights='imagenet'\n",
        ")\n",
        "base_model.trainable = False\n",
        "\n",
        "model = models.Sequential([\n",
        "    data_augmentation,\n",
        "    layers.Rescaling(1./255),\n",
        "    base_model,\n",
        "    layers.GlobalAveragePooling2D(),\n",
        "    layers.Dropout(0.3),\n",
        "    layers.Dense(num_classes, activation='softmax')\n",
        "])"
      ],
      "metadata": {
        "colab": {
          "base_uri": "https://localhost:8080/"
        },
        "id": "t-adlZ-dYGnZ",
        "outputId": "0701aa68-ef76-4576-af79-13bc3736b329"
      },
      "execution_count": 9,
      "outputs": [
        {
          "output_type": "stream",
          "name": "stdout",
          "text": [
            "Downloading data from https://storage.googleapis.com/tensorflow/keras-applications/efficientnet_v2/efficientnetv2-b0_notop.h5\n",
            "\u001b[1m24274472/24274472\u001b[0m \u001b[32m━━━━━━━━━━━━━━━━━━━━\u001b[0m\u001b[37m\u001b[0m \u001b[1m0s\u001b[0m 0us/step\n"
          ]
        }
      ]
    },
    {
      "cell_type": "code",
      "source": [
        "model.compile(\n",
        "    optimizer=tf.keras.optimizers.Adam(learning_rate=1e-4),\n",
        "    loss='sparse_categorical_crossentropy',\n",
        "    metrics=['accuracy']\n",
        ")\n",
        "\n",
        "model.summary()"
      ],
      "metadata": {
        "colab": {
          "base_uri": "https://localhost:8080/",
          "height": 347
        },
        "id": "gxv1w5-FYJpf",
        "outputId": "c04d16bc-8c8e-43d0-d1c4-eefe03f1eeb8"
      },
      "execution_count": 10,
      "outputs": [
        {
          "output_type": "display_data",
          "data": {
            "text/plain": [
              "\u001b[1mModel: \"sequential_1\"\u001b[0m\n"
            ],
            "text/html": [
              "<pre style=\"white-space:pre;overflow-x:auto;line-height:normal;font-family:Menlo,'DejaVu Sans Mono',consolas,'Courier New',monospace\"><span style=\"font-weight: bold\">Model: \"sequential_1\"</span>\n",
              "</pre>\n"
            ]
          },
          "metadata": {}
        },
        {
          "output_type": "display_data",
          "data": {
            "text/plain": [
              "┏━━━━━━━━━━━━━━━━━━━━━━━━━━━━━━━━━┳━━━━━━━━━━━━━━━━━━━━━━━━┳━━━━━━━━━━━━━━━┓\n",
              "┃\u001b[1m \u001b[0m\u001b[1mLayer (type)                   \u001b[0m\u001b[1m \u001b[0m┃\u001b[1m \u001b[0m\u001b[1mOutput Shape          \u001b[0m\u001b[1m \u001b[0m┃\u001b[1m \u001b[0m\u001b[1m      Param #\u001b[0m\u001b[1m \u001b[0m┃\n",
              "┡━━━━━━━━━━━━━━━━━━━━━━━━━━━━━━━━━╇━━━━━━━━━━━━━━━━━━━━━━━━╇━━━━━━━━━━━━━━━┩\n",
              "│ sequential (\u001b[38;5;33mSequential\u001b[0m)         │ ?                      │   \u001b[38;5;34m0\u001b[0m (unbuilt) │\n",
              "├─────────────────────────────────┼────────────────────────┼───────────────┤\n",
              "│ rescaling_1 (\u001b[38;5;33mRescaling\u001b[0m)         │ ?                      │   \u001b[38;5;34m0\u001b[0m (unbuilt) │\n",
              "├─────────────────────────────────┼────────────────────────┼───────────────┤\n",
              "│ efficientnetv2-b0 (\u001b[38;5;33mFunctional\u001b[0m)  │ (\u001b[38;5;45mNone\u001b[0m, \u001b[38;5;34m8\u001b[0m, \u001b[38;5;34m8\u001b[0m, \u001b[38;5;34m1280\u001b[0m)     │     \u001b[38;5;34m5,919,312\u001b[0m │\n",
              "├─────────────────────────────────┼────────────────────────┼───────────────┤\n",
              "│ global_average_pooling2d        │ ?                      │             \u001b[38;5;34m0\u001b[0m │\n",
              "│ (\u001b[38;5;33mGlobalAveragePooling2D\u001b[0m)        │                        │               │\n",
              "├─────────────────────────────────┼────────────────────────┼───────────────┤\n",
              "│ dropout (\u001b[38;5;33mDropout\u001b[0m)               │ ?                      │             \u001b[38;5;34m0\u001b[0m │\n",
              "├─────────────────────────────────┼────────────────────────┼───────────────┤\n",
              "│ dense (\u001b[38;5;33mDense\u001b[0m)                   │ ?                      │   \u001b[38;5;34m0\u001b[0m (unbuilt) │\n",
              "└─────────────────────────────────┴────────────────────────┴───────────────┘\n"
            ],
            "text/html": [
              "<pre style=\"white-space:pre;overflow-x:auto;line-height:normal;font-family:Menlo,'DejaVu Sans Mono',consolas,'Courier New',monospace\">┏━━━━━━━━━━━━━━━━━━━━━━━━━━━━━━━━━┳━━━━━━━━━━━━━━━━━━━━━━━━┳━━━━━━━━━━━━━━━┓\n",
              "┃<span style=\"font-weight: bold\"> Layer (type)                    </span>┃<span style=\"font-weight: bold\"> Output Shape           </span>┃<span style=\"font-weight: bold\">       Param # </span>┃\n",
              "┡━━━━━━━━━━━━━━━━━━━━━━━━━━━━━━━━━╇━━━━━━━━━━━━━━━━━━━━━━━━╇━━━━━━━━━━━━━━━┩\n",
              "│ sequential (<span style=\"color: #0087ff; text-decoration-color: #0087ff\">Sequential</span>)         │ ?                      │   <span style=\"color: #00af00; text-decoration-color: #00af00\">0</span> (unbuilt) │\n",
              "├─────────────────────────────────┼────────────────────────┼───────────────┤\n",
              "│ rescaling_1 (<span style=\"color: #0087ff; text-decoration-color: #0087ff\">Rescaling</span>)         │ ?                      │   <span style=\"color: #00af00; text-decoration-color: #00af00\">0</span> (unbuilt) │\n",
              "├─────────────────────────────────┼────────────────────────┼───────────────┤\n",
              "│ efficientnetv2-b0 (<span style=\"color: #0087ff; text-decoration-color: #0087ff\">Functional</span>)  │ (<span style=\"color: #00d7ff; text-decoration-color: #00d7ff\">None</span>, <span style=\"color: #00af00; text-decoration-color: #00af00\">8</span>, <span style=\"color: #00af00; text-decoration-color: #00af00\">8</span>, <span style=\"color: #00af00; text-decoration-color: #00af00\">1280</span>)     │     <span style=\"color: #00af00; text-decoration-color: #00af00\">5,919,312</span> │\n",
              "├─────────────────────────────────┼────────────────────────┼───────────────┤\n",
              "│ global_average_pooling2d        │ ?                      │             <span style=\"color: #00af00; text-decoration-color: #00af00\">0</span> │\n",
              "│ (<span style=\"color: #0087ff; text-decoration-color: #0087ff\">GlobalAveragePooling2D</span>)        │                        │               │\n",
              "├─────────────────────────────────┼────────────────────────┼───────────────┤\n",
              "│ dropout (<span style=\"color: #0087ff; text-decoration-color: #0087ff\">Dropout</span>)               │ ?                      │             <span style=\"color: #00af00; text-decoration-color: #00af00\">0</span> │\n",
              "├─────────────────────────────────┼────────────────────────┼───────────────┤\n",
              "│ dense (<span style=\"color: #0087ff; text-decoration-color: #0087ff\">Dense</span>)                   │ ?                      │   <span style=\"color: #00af00; text-decoration-color: #00af00\">0</span> (unbuilt) │\n",
              "└─────────────────────────────────┴────────────────────────┴───────────────┘\n",
              "</pre>\n"
            ]
          },
          "metadata": {}
        },
        {
          "output_type": "display_data",
          "data": {
            "text/plain": [
              "\u001b[1m Total params: \u001b[0m\u001b[38;5;34m5,919,312\u001b[0m (22.58 MB)\n"
            ],
            "text/html": [
              "<pre style=\"white-space:pre;overflow-x:auto;line-height:normal;font-family:Menlo,'DejaVu Sans Mono',consolas,'Courier New',monospace\"><span style=\"font-weight: bold\"> Total params: </span><span style=\"color: #00af00; text-decoration-color: #00af00\">5,919,312</span> (22.58 MB)\n",
              "</pre>\n"
            ]
          },
          "metadata": {}
        },
        {
          "output_type": "display_data",
          "data": {
            "text/plain": [
              "\u001b[1m Trainable params: \u001b[0m\u001b[38;5;34m0\u001b[0m (0.00 B)\n"
            ],
            "text/html": [
              "<pre style=\"white-space:pre;overflow-x:auto;line-height:normal;font-family:Menlo,'DejaVu Sans Mono',consolas,'Courier New',monospace\"><span style=\"font-weight: bold\"> Trainable params: </span><span style=\"color: #00af00; text-decoration-color: #00af00\">0</span> (0.00 B)\n",
              "</pre>\n"
            ]
          },
          "metadata": {}
        },
        {
          "output_type": "display_data",
          "data": {
            "text/plain": [
              "\u001b[1m Non-trainable params: \u001b[0m\u001b[38;5;34m5,919,312\u001b[0m (22.58 MB)\n"
            ],
            "text/html": [
              "<pre style=\"white-space:pre;overflow-x:auto;line-height:normal;font-family:Menlo,'DejaVu Sans Mono',consolas,'Courier New',monospace\"><span style=\"font-weight: bold\"> Non-trainable params: </span><span style=\"color: #00af00; text-decoration-color: #00af00\">5,919,312</span> (22.58 MB)\n",
              "</pre>\n"
            ]
          },
          "metadata": {}
        }
      ]
    },
    {
      "cell_type": "code",
      "source": [
        "log_dir = \"/content/logs\"\n",
        "tensorboard_callback = tf.keras.callbacks.TensorBoard(log_dir=log_dir)\n"
      ],
      "metadata": {
        "id": "Tngm680xYOQd"
      },
      "execution_count": 11,
      "outputs": []
    },
    {
      "cell_type": "code",
      "source": [
        "history = model.fit(\n",
        "    train_ds,\n",
        "    validation_data=val_ds,\n",
        "    epochs=20,\n",
        "    class_weight=class_weights,\n",
        "    callbacks=[tensorboard_callback]\n",
        ")\n"
      ],
      "metadata": {
        "colab": {
          "base_uri": "https://localhost:8080/"
        },
        "id": "_Hsj2SV6YRTF",
        "outputId": "9897b33c-0c26-417d-d1a2-c3da9405983f"
      },
      "execution_count": 12,
      "outputs": [
        {
          "output_type": "stream",
          "name": "stdout",
          "text": [
            "Epoch 1/20\n"
          ]
        },
        {
          "output_type": "stream",
          "name": "stderr",
          "text": [
            "/usr/local/lib/python3.11/dist-packages/keras/src/ops/nn.py:907: UserWarning: You are using a softmax over axis -1 of a tensor of shape (None, 1). This axis has size 1. The softmax operation will always return the value 1, which is likely not what you intended. Did you mean to use a sigmoid instead?\n",
            "  warnings.warn(\n"
          ]
        },
        {
          "output_type": "stream",
          "name": "stdout",
          "text": [
            "\u001b[1m1/1\u001b[0m \u001b[32m━━━━━━━━━━━━━━━━━━━━\u001b[0m\u001b[37m\u001b[0m \u001b[1m27s\u001b[0m 27s/step - accuracy: 0.0000e+00 - loss: 0.0000e+00\n",
            "Epoch 2/20\n"
          ]
        },
        {
          "output_type": "stream",
          "name": "stderr",
          "text": [
            "/usr/local/lib/python3.11/dist-packages/keras/src/trainers/epoch_iterator.py:151: UserWarning: Your input ran out of data; interrupting training. Make sure that your dataset or generator can generate at least `steps_per_epoch * epochs` batches. You may need to use the `.repeat()` function when building your dataset.\n",
            "  self._interrupted_warning()\n"
          ]
        },
        {
          "output_type": "stream",
          "name": "stdout",
          "text": [
            "\u001b[1m1/1\u001b[0m \u001b[32m━━━━━━━━━━━━━━━━━━━━\u001b[0m\u001b[37m\u001b[0m \u001b[1m1s\u001b[0m 1s/step - accuracy: 0.0000e+00 - loss: 0.0000e+00\n",
            "Epoch 3/20\n",
            "\u001b[1m1/1\u001b[0m \u001b[32m━━━━━━━━━━━━━━━━━━━━\u001b[0m\u001b[37m\u001b[0m \u001b[1m1s\u001b[0m 1s/step - accuracy: 0.0000e+00 - loss: 0.0000e+00\n",
            "Epoch 4/20\n",
            "\u001b[1m1/1\u001b[0m \u001b[32m━━━━━━━━━━━━━━━━━━━━\u001b[0m\u001b[37m\u001b[0m \u001b[1m1s\u001b[0m 1s/step - accuracy: 0.0000e+00 - loss: 0.0000e+00\n",
            "Epoch 5/20\n",
            "\u001b[1m1/1\u001b[0m \u001b[32m━━━━━━━━━━━━━━━━━━━━\u001b[0m\u001b[37m\u001b[0m \u001b[1m1s\u001b[0m 1s/step - accuracy: 0.0000e+00 - loss: 0.0000e+00\n",
            "Epoch 6/20\n",
            "\u001b[1m1/1\u001b[0m \u001b[32m━━━━━━━━━━━━━━━━━━━━\u001b[0m\u001b[37m\u001b[0m \u001b[1m1s\u001b[0m 1s/step - accuracy: 0.0000e+00 - loss: 0.0000e+00\n",
            "Epoch 7/20\n",
            "\u001b[1m1/1\u001b[0m \u001b[32m━━━━━━━━━━━━━━━━━━━━\u001b[0m\u001b[37m\u001b[0m \u001b[1m3s\u001b[0m 3s/step - accuracy: 0.0000e+00 - loss: 0.0000e+00\n",
            "Epoch 8/20\n",
            "\u001b[1m1/1\u001b[0m \u001b[32m━━━━━━━━━━━━━━━━━━━━\u001b[0m\u001b[37m\u001b[0m \u001b[1m1s\u001b[0m 1s/step - accuracy: 0.0000e+00 - loss: 0.0000e+00\n",
            "Epoch 9/20\n",
            "\u001b[1m1/1\u001b[0m \u001b[32m━━━━━━━━━━━━━━━━━━━━\u001b[0m\u001b[37m\u001b[0m \u001b[1m1s\u001b[0m 1s/step - accuracy: 0.0000e+00 - loss: 0.0000e+00\n",
            "Epoch 10/20\n",
            "\u001b[1m1/1\u001b[0m \u001b[32m━━━━━━━━━━━━━━━━━━━━\u001b[0m\u001b[37m\u001b[0m \u001b[1m1s\u001b[0m 1s/step - accuracy: 0.0000e+00 - loss: 0.0000e+00\n",
            "Epoch 11/20\n",
            "\u001b[1m1/1\u001b[0m \u001b[32m━━━━━━━━━━━━━━━━━━━━\u001b[0m\u001b[37m\u001b[0m \u001b[1m3s\u001b[0m 3s/step - accuracy: 0.0000e+00 - loss: 0.0000e+00\n",
            "Epoch 12/20\n",
            "\u001b[1m1/1\u001b[0m \u001b[32m━━━━━━━━━━━━━━━━━━━━\u001b[0m\u001b[37m\u001b[0m \u001b[1m1s\u001b[0m 1s/step - accuracy: 0.0000e+00 - loss: 0.0000e+00\n",
            "Epoch 13/20\n",
            "\u001b[1m1/1\u001b[0m \u001b[32m━━━━━━━━━━━━━━━━━━━━\u001b[0m\u001b[37m\u001b[0m \u001b[1m1s\u001b[0m 1s/step - accuracy: 0.0000e+00 - loss: 0.0000e+00\n",
            "Epoch 14/20\n",
            "\u001b[1m1/1\u001b[0m \u001b[32m━━━━━━━━━━━━━━━━━━━━\u001b[0m\u001b[37m\u001b[0m \u001b[1m3s\u001b[0m 3s/step - accuracy: 0.0000e+00 - loss: 0.0000e+00\n",
            "Epoch 15/20\n",
            "\u001b[1m1/1\u001b[0m \u001b[32m━━━━━━━━━━━━━━━━━━━━\u001b[0m\u001b[37m\u001b[0m \u001b[1m4s\u001b[0m 4s/step - accuracy: 0.0000e+00 - loss: 0.0000e+00\n",
            "Epoch 16/20\n",
            "\u001b[1m1/1\u001b[0m \u001b[32m━━━━━━━━━━━━━━━━━━━━\u001b[0m\u001b[37m\u001b[0m \u001b[1m1s\u001b[0m 1s/step - accuracy: 0.0000e+00 - loss: 0.0000e+00\n",
            "Epoch 17/20\n",
            "\u001b[1m1/1\u001b[0m \u001b[32m━━━━━━━━━━━━━━━━━━━━\u001b[0m\u001b[37m\u001b[0m \u001b[1m1s\u001b[0m 1s/step - accuracy: 0.0000e+00 - loss: 0.0000e+00\n",
            "Epoch 18/20\n",
            "\u001b[1m1/1\u001b[0m \u001b[32m━━━━━━━━━━━━━━━━━━━━\u001b[0m\u001b[37m\u001b[0m \u001b[1m1s\u001b[0m 1s/step - accuracy: 0.0000e+00 - loss: 0.0000e+00\n",
            "Epoch 19/20\n",
            "\u001b[1m1/1\u001b[0m \u001b[32m━━━━━━━━━━━━━━━━━━━━\u001b[0m\u001b[37m\u001b[0m \u001b[1m1s\u001b[0m 1s/step - accuracy: 0.0000e+00 - loss: 0.0000e+00\n",
            "Epoch 20/20\n",
            "\u001b[1m1/1\u001b[0m \u001b[32m━━━━━━━━━━━━━━━━━━━━\u001b[0m\u001b[37m\u001b[0m \u001b[1m1s\u001b[0m 1s/step - accuracy: 0.0000e+00 - loss: 0.0000e+00\n"
          ]
        }
      ]
    },
    {
      "cell_type": "code",
      "source": [
        "loss, acc = model.evaluate(test_ds)\n",
        "print(f\"Test Accuracy: {acc:.2%}\")\n"
      ],
      "metadata": {
        "colab": {
          "base_uri": "https://localhost:8080/"
        },
        "id": "4TCwhFrnZnof",
        "outputId": "0e50b9ea-3298-42e3-f5a0-3c9d35dc33c8"
      },
      "execution_count": 13,
      "outputs": [
        {
          "output_type": "stream",
          "name": "stdout",
          "text": [
            "\u001b[1m1/1\u001b[0m \u001b[32m━━━━━━━━━━━━━━━━━━━━\u001b[0m\u001b[37m\u001b[0m \u001b[1m0s\u001b[0m 198ms/step - accuracy: 0.0000e+00 - loss: 0.0000e+00\n",
            "Test Accuracy: 0.00%\n"
          ]
        }
      ]
    },
    {
      "cell_type": "code",
      "source": [
        "y_true = []\n",
        "y_pred = []\n",
        "\n",
        "for images, labels in test_ds:\n",
        "    preds = model.predict(images)\n",
        "    y_true.extend(labels.numpy())\n",
        "    y_pred.extend(np.argmax(preds, axis=1))\n",
        "\n",
        "cm = confusion_matrix(y_true, y_pred)\n",
        "plt.figure(figsize=(8,6))\n",
        "sns.heatmap(cm, annot=True, fmt='d', cmap='Blues',\n",
        "            xticklabels=class_names, yticklabels=class_names)\n",
        "plt.title(\"Confusion Matrix\")\n",
        "plt.ylabel(\"Actual\")\n",
        "plt.xlabel(\"Predicted\")\n",
        "plt.show()\n",
        "\n",
        "print(classification_report(y_true, y_pred, target_names=class_names))"
      ],
      "metadata": {
        "colab": {
          "base_uri": "https://localhost:8080/",
          "height": 816
        },
        "id": "e5gnkuFqZoxH",
        "outputId": "2155cf7b-a221-47f7-9445-e0fb851b4a7d"
      },
      "execution_count": 14,
      "outputs": [
        {
          "output_type": "stream",
          "name": "stderr",
          "text": [
            "/usr/local/lib/python3.11/dist-packages/keras/src/ops/nn.py:907: UserWarning: You are using a softmax over axis -1 of a tensor of shape (3, 1). This axis has size 1. The softmax operation will always return the value 1, which is likely not what you intended. Did you mean to use a sigmoid instead?\n",
            "  warnings.warn(\n"
          ]
        },
        {
          "output_type": "stream",
          "name": "stdout",
          "text": [
            "\u001b[1m1/1\u001b[0m \u001b[32m━━━━━━━━━━━━━━━━━━━━\u001b[0m\u001b[37m\u001b[0m \u001b[1m6s\u001b[0m 6s/step\n"
          ]
        },
        {
          "output_type": "stream",
          "name": "stderr",
          "text": [
            "/usr/local/lib/python3.11/dist-packages/sklearn/metrics/_classification.py:407: UserWarning: A single label was found in 'y_true' and 'y_pred'. For the confusion matrix to have the correct shape, use the 'labels' parameter to pass all known labels.\n",
            "  warnings.warn(\n"
          ]
        },
        {
          "output_type": "display_data",
          "data": {
            "text/plain": [
              "<Figure size 800x600 with 2 Axes>"
            ],
            "image/png": "[encoded data removed]"
          },
          "metadata": {}
        },
        {
          "output_type": "stream",
          "name": "stdout",
          "text": [
            "              precision    recall  f1-score   support\n",
            "\n",
            "     plastic       1.00      1.00      1.00         3\n",
            "\n",
            "    accuracy                           1.00         3\n",
            "   macro avg       1.00      1.00      1.00         3\n",
            "weighted avg       1.00      1.00      1.00         3\n",
            "\n"
          ]
        }
      ]
    },
    {
      "cell_type": "code",
      "source": [
        "import cv2\n",
        "\n",
        "def get_img_array(img_path):\n",
        "    img = tf.keras.utils.load_img(img_path, target_size=image_size)\n",
        "    array = tf.keras.utils.img_to_array(img)\n",
        "    array = np.expand_dims(array, axis=0)\n",
        "    return array / 255.0\n"
      ],
      "metadata": {
        "id": "_anie9ArZt1m"
      },
      "execution_count": 15,
      "outputs": []
    },
    {
      "cell_type": "code",
      "source": [
        "def make_gradcam_heatmap(img_array, model, last_conv_layer_name, pred_index=None):\n",
        "    grad_model = tf.keras.models.Model(\n",
        "        [model.inputs], [model.get_layer(last_conv_layer_name).output, model.output]\n",
        "    )\n",
        "    with tf.GradientTape() as tape:\n",
        "        conv_outputs, predictions = grad_model(img_array)\n",
        "        if pred_index is None:\n",
        "            pred_index = tf.argmax(predictions[0])\n",
        "        class_channel = predictions[:, pred_index]\n",
        "\n",
        "    grads = tape.gradient(class_channel, conv_outputs)\n",
        "    pooled_grads = tf.reduce_mean(grads, axis=(0, 1, 2))\n",
        "    conv_outputs = conv_outputs[0]\n",
        "\n",
        "    heatmap = conv_outputs @ pooled_grads[..., tf.newaxis]\n",
        "    heatmap = tf.squeeze(heatmap)\n",
        "    heatmap = tf.maximum(heatmap, 0) / tf.math.reduce_max(heatmap)\n",
        "    return heatmap.numpy()"
      ],
      "metadata": {
        "id": "oaFtQdgFZwFG"
      },
      "execution_count": 16,
      "outputs": []
    },
    {
      "cell_type": "code",
      "source": [
        "from tensorflow import keras\n",
        "from tensorflow.keras import layers\n"
      ],
      "metadata": {
        "id": "ajUUy1CAaT1I"
      },
      "execution_count": 25,
      "outputs": []
    },
    {
      "cell_type": "code",
      "source": [
        "base_model = tf.keras.applications.EfficientNetV2B0(\n",
        "    include_top=False,\n",
        "    weights='imagenet',\n",
        "    input_shape=(256, 256, 3)\n",
        ")\n",
        "base_model.trainable = False\n",
        "\n",
        "model = keras.Sequential([\n",
        "    layers.Rescaling(1./255),\n",
        "    base_model,\n",
        "    layers.GlobalAveragePooling2D(),\n",
        "    layers.Dropout(0.2),\n",
        "    layers.Dense(len(class_names), activation='softmax')\n",
        "])\n"
      ],
      "metadata": {
        "id": "_vH5uTqBacMR"
      },
      "execution_count": 26,
      "outputs": []
    },
    {
      "cell_type": "code",
      "source": [
        "for i, layer in enumerate(base_model.layers):\n",
        "    shape = getattr(layer, 'output_shape', None)\n",
        "    if shape is None and hasattr(layer, 'batch_input_shape'):\n",
        "        shape = layer.batch_input_shape\n",
        "    print(i, layer.name, shape)\n"
      ],
      "metadata": {
        "colab": {
          "base_uri": "https://localhost:8080/"
        },
        "id": "_FPiZXWOarbh",
        "outputId": "8f7ffbf3-44f6-4948-b8a5-dc40ca176e88"
      },
      "execution_count": 33,
      "outputs": [
        {
          "output_type": "stream",
          "name": "stdout",
          "text": [
            "0 input_layer_4 None\n",
            "1 rescaling_3 None\n",
            "2 normalization_2 None\n",
            "3 stem_conv None\n",
            "4 stem_bn None\n",
            "5 stem_activation None\n",
            "6 block1a_project_conv None\n",
            "7 block1a_project_bn None\n",
            "8 block1a_project_activation None\n",
            "9 block2a_expand_conv None\n",
            "10 block2a_expand_bn None\n",
            "11 block2a_expand_activation None\n",
            "12 block2a_project_conv None\n",
            "13 block2a_project_bn None\n",
            "14 block2b_expand_conv None\n",
            "15 block2b_expand_bn None\n",
            "16 block2b_expand_activation None\n",
            "17 block2b_project_conv None\n",
            "18 block2b_project_bn None\n",
            "19 block2b_drop None\n",
            "20 block2b_add None\n",
            "21 block3a_expand_conv None\n",
            "22 block3a_expand_bn None\n",
            "23 block3a_expand_activation None\n",
            "24 block3a_project_conv None\n",
            "25 block3a_project_bn None\n",
            "26 block3b_expand_conv None\n",
            "27 block3b_expand_bn None\n",
            "28 block3b_expand_activation None\n",
            "29 block3b_project_conv None\n",
            "30 block3b_project_bn None\n",
            "31 block3b_drop None\n",
            "32 block3b_add None\n",
            "33 block4a_expand_conv None\n",
            "34 block4a_expand_bn None\n",
            "35 block4a_expand_activation None\n",
            "36 block4a_dwconv2 None\n",
            "37 block4a_bn None\n",
            "38 block4a_activation None\n",
            "39 block4a_se_squeeze None\n",
            "40 block4a_se_reshape None\n",
            "41 block4a_se_reduce None\n",
            "42 block4a_se_expand None\n",
            "43 block4a_se_excite None\n",
            "44 block4a_project_conv None\n",
            "45 block4a_project_bn None\n",
            "46 block4b_expand_conv None\n",
            "47 block4b_expand_bn None\n",
            "48 block4b_expand_activation None\n",
            "49 block4b_dwconv2 None\n",
            "50 block4b_bn None\n",
            "51 block4b_activation None\n",
            "52 block4b_se_squeeze None\n",
            "53 block4b_se_reshape None\n",
            "54 block4b_se_reduce None\n",
            "55 block4b_se_expand None\n",
            "56 block4b_se_excite None\n",
            "57 block4b_project_conv None\n",
            "58 block4b_project_bn None\n",
            "59 block4b_drop None\n",
            "60 block4b_add None\n",
            "61 block4c_expand_conv None\n",
            "62 block4c_expand_bn None\n",
            "63 block4c_expand_activation None\n",
            "64 block4c_dwconv2 None\n",
            "65 block4c_bn None\n",
            "66 block4c_activation None\n",
            "67 block4c_se_squeeze None\n",
            "68 block4c_se_reshape None\n",
            "69 block4c_se_reduce None\n",
            "70 block4c_se_expand None\n",
            "71 block4c_se_excite None\n",
            "72 block4c_project_conv None\n",
            "73 block4c_project_bn None\n",
            "74 block4c_drop None\n",
            "75 block4c_add None\n",
            "76 block5a_expand_conv None\n",
            "77 block5a_expand_bn None\n",
            "78 block5a_expand_activation None\n",
            "79 block5a_dwconv2 None\n",
            "80 block5a_bn None\n",
            "81 block5a_activation None\n",
            "82 block5a_se_squeeze None\n",
            "83 block5a_se_reshape None\n",
            "84 block5a_se_reduce None\n",
            "85 block5a_se_expand None\n",
            "86 block5a_se_excite None\n",
            "87 block5a_project_conv None\n",
            "88 block5a_project_bn None\n",
            "89 block5b_expand_conv None\n",
            "90 block5b_expand_bn None\n",
            "91 block5b_expand_activation None\n",
            "92 block5b_dwconv2 None\n",
            "93 block5b_bn None\n",
            "94 block5b_activation None\n",
            "95 block5b_se_squeeze None\n",
            "96 block5b_se_reshape None\n",
            "97 block5b_se_reduce None\n",
            "98 block5b_se_expand None\n",
            "99 block5b_se_excite None\n",
            "100 block5b_project_conv None\n",
            "101 block5b_project_bn None\n",
            "102 block5b_drop None\n",
            "103 block5b_add None\n",
            "104 block5c_expand_conv None\n",
            "105 block5c_expand_bn None\n",
            "106 block5c_expand_activation None\n",
            "107 block5c_dwconv2 None\n",
            "108 block5c_bn None\n",
            "109 block5c_activation None\n",
            "110 block5c_se_squeeze None\n",
            "111 block5c_se_reshape None\n",
            "112 block5c_se_reduce None\n",
            "113 block5c_se_expand None\n",
            "114 block5c_se_excite None\n",
            "115 block5c_project_conv None\n",
            "116 block5c_project_bn None\n",
            "117 block5c_drop None\n",
            "118 block5c_add None\n",
            "119 block5d_expand_conv None\n",
            "120 block5d_expand_bn None\n",
            "121 block5d_expand_activation None\n",
            "122 block5d_dwconv2 None\n",
            "123 block5d_bn None\n",
            "124 block5d_activation None\n",
            "125 block5d_se_squeeze None\n",
            "126 block5d_se_reshape None\n",
            "127 block5d_se_reduce None\n",
            "128 block5d_se_expand None\n",
            "129 block5d_se_excite None\n",
            "130 block5d_project_conv None\n",
            "131 block5d_project_bn None\n",
            "132 block5d_drop None\n",
            "133 block5d_add None\n",
            "134 block5e_expand_conv None\n",
            "135 block5e_expand_bn None\n",
            "136 block5e_expand_activation None\n",
            "137 block5e_dwconv2 None\n",
            "138 block5e_bn None\n",
            "139 block5e_activation None\n",
            "140 block5e_se_squeeze None\n",
            "141 block5e_se_reshape None\n",
            "142 block5e_se_reduce None\n",
            "143 block5e_se_expand None\n",
            "144 block5e_se_excite None\n",
            "145 block5e_project_conv None\n",
            "146 block5e_project_bn None\n",
            "147 block5e_drop None\n",
            "148 block5e_add None\n",
            "149 block6a_expand_conv None\n",
            "150 block6a_expand_bn None\n",
            "151 block6a_expand_activation None\n",
            "152 block6a_dwconv2 None\n",
            "153 block6a_bn None\n",
            "154 block6a_activation None\n",
            "155 block6a_se_squeeze None\n",
            "156 block6a_se_reshape None\n",
            "157 block6a_se_reduce None\n",
            "158 block6a_se_expand None\n",
            "159 block6a_se_excite None\n",
            "160 block6a_project_conv None\n",
            "161 block6a_project_bn None\n",
            "162 block6b_expand_conv None\n",
            "163 block6b_expand_bn None\n",
            "164 block6b_expand_activation None\n",
            "165 block6b_dwconv2 None\n",
            "166 block6b_bn None\n",
            "167 block6b_activation None\n",
            "168 block6b_se_squeeze None\n",
            "169 block6b_se_reshape None\n",
            "170 block6b_se_reduce None\n",
            "171 block6b_se_expand None\n",
            "172 block6b_se_excite None\n",
            "173 block6b_project_conv None\n",
            "174 block6b_project_bn None\n",
            "175 block6b_drop None\n",
            "176 block6b_add None\n",
            "177 block6c_expand_conv None\n",
            "178 block6c_expand_bn None\n",
            "179 block6c_expand_activation None\n",
            "180 block6c_dwconv2 None\n",
            "181 block6c_bn None\n",
            "182 block6c_activation None\n",
            "183 block6c_se_squeeze None\n",
            "184 block6c_se_reshape None\n",
            "185 block6c_se_reduce None\n",
            "186 block6c_se_expand None\n",
            "187 block6c_se_excite None\n",
            "188 block6c_project_conv None\n",
            "189 block6c_project_bn None\n",
            "190 block6c_drop None\n",
            "191 block6c_add None\n",
            "192 block6d_expand_conv None\n",
            "193 block6d_expand_bn None\n",
            "194 block6d_expand_activation None\n",
            "195 block6d_dwconv2 None\n",
            "196 block6d_bn None\n",
            "197 block6d_activation None\n",
            "198 block6d_se_squeeze None\n",
            "199 block6d_se_reshape None\n",
            "200 block6d_se_reduce None\n",
            "201 block6d_se_expand None\n",
            "202 block6d_se_excite None\n",
            "203 block6d_project_conv None\n",
            "204 block6d_project_bn None\n",
            "205 block6d_drop None\n",
            "206 block6d_add None\n",
            "207 block6e_expand_conv None\n",
            "208 block6e_expand_bn None\n",
            "209 block6e_expand_activation None\n",
            "210 block6e_dwconv2 None\n",
            "211 block6e_bn None\n",
            "212 block6e_activation None\n",
            "213 block6e_se_squeeze None\n",
            "214 block6e_se_reshape None\n",
            "215 block6e_se_reduce None\n",
            "216 block6e_se_expand None\n",
            "217 block6e_se_excite None\n",
            "218 block6e_project_conv None\n",
            "219 block6e_project_bn None\n",
            "220 block6e_drop None\n",
            "221 block6e_add None\n",
            "222 block6f_expand_conv None\n",
            "223 block6f_expand_bn None\n",
            "224 block6f_expand_activation None\n",
            "225 block6f_dwconv2 None\n",
            "226 block6f_bn None\n",
            "227 block6f_activation None\n",
            "228 block6f_se_squeeze None\n",
            "229 block6f_se_reshape None\n",
            "230 block6f_se_reduce None\n",
            "231 block6f_se_expand None\n",
            "232 block6f_se_excite None\n",
            "233 block6f_project_conv None\n",
            "234 block6f_project_bn None\n",
            "235 block6f_drop None\n",
            "236 block6f_add None\n",
            "237 block6g_expand_conv None\n",
            "238 block6g_expand_bn None\n",
            "239 block6g_expand_activation None\n",
            "240 block6g_dwconv2 None\n",
            "241 block6g_bn None\n",
            "242 block6g_activation None\n",
            "243 block6g_se_squeeze None\n",
            "244 block6g_se_reshape None\n",
            "245 block6g_se_reduce None\n",
            "246 block6g_se_expand None\n",
            "247 block6g_se_excite None\n",
            "248 block6g_project_conv None\n",
            "249 block6g_project_bn None\n",
            "250 block6g_drop None\n",
            "251 block6g_add None\n",
            "252 block6h_expand_conv None\n",
            "253 block6h_expand_bn None\n",
            "254 block6h_expand_activation None\n",
            "255 block6h_dwconv2 None\n",
            "256 block6h_bn None\n",
            "257 block6h_activation None\n",
            "258 block6h_se_squeeze None\n",
            "259 block6h_se_reshape None\n",
            "260 block6h_se_reduce None\n",
            "261 block6h_se_expand None\n",
            "262 block6h_se_excite None\n",
            "263 block6h_project_conv None\n",
            "264 block6h_project_bn None\n",
            "265 block6h_drop None\n",
            "266 block6h_add None\n",
            "267 top_conv None\n",
            "268 top_bn None\n",
            "269 top_activation None\n"
          ]
        }
      ]
    },
    {
      "cell_type": "code",
      "source": [
        "def make_gradcam_heatmap(img_array, model, last_conv_layer_name, pred_index=None):\n",
        "    # The full model contains base_model as the 3rd layer (index 2)\n",
        "    base_model = model.layers[2]\n",
        "    last_conv_layer = base_model.get_layer(last_conv_layer_name)\n",
        "\n",
        "    # Build a model that maps input -> conv outputs + final predictions\n",
        "    grad_model = tf.keras.models.Model(\n",
        "        inputs=model.inputs,\n",
        "        outputs=[last_conv_layer.output, model.output]\n",
        "    )\n",
        "\n",
        "    with tf.GradientTape() as tape:\n",
        "        conv_outputs, predictions = grad_model(img_array)\n",
        "        if pred_index is None:\n",
        "            pred_index = tf.argmax(predictions[0])\n",
        "        class_channel = predictions[:, pred_index]\n",
        "\n",
        "    grads = tape.gradient(class_channel, conv_outputs)\n",
        "    pooled_grads = tf.reduce_mean(grads, axis=(0, 1, 2))\n",
        "    conv_outputs = conv_outputs[0]\n",
        "\n",
        "    heatmap = conv_outputs @ pooled_grads[..., tf.newaxis]\n",
        "    heatmap = tf.squeeze(heatmap)\n",
        "    heatmap = tf.maximum(heatmap, 0) / tf.math.reduce_max(heatmap)\n",
        "    return heatmap.numpy()\n"
      ],
      "metadata": {
        "id": "gsaam3jAbzJM"
      },
      "execution_count": 34,
      "outputs": []
    },
    {
      "cell_type": "code",
      "source": [
        "import cv2\n",
        "import numpy as np\n",
        "import matplotlib.pyplot as plt\n",
        "\n",
        "def get_img_array(img_path):\n",
        "    img = tf.keras.utils.load_img(img_path, target_size=image_size)\n",
        "    array = tf.keras.utils.img_to_array(img)\n",
        "    array = np.expand_dims(array, axis=0)\n",
        "    return array / 255.0\n"
      ],
      "metadata": {
        "id": "w6okaaNBb1CI"
      },
      "execution_count": 35,
      "outputs": []
    },
    {
      "cell_type": "code",
      "source": [
        "import random\n",
        "import os\n",
        "\n",
        "test_image_path = random.choice([\n",
        "    os.path.join(dataset_dir, class_name, fname)\n",
        "    for class_name in class_names\n",
        "    for fname in os.listdir(os.path.join(dataset_dir, class_name))\n",
        "])\n",
        "print(\"Test image:\", test_image_path)\n"
      ],
      "metadata": {
        "colab": {
          "base_uri": "https://localhost:8080/"
        },
        "id": "ZrEVwnIZb21w",
        "outputId": "656670bc-dffe-42f5-fd8e-1f1f6d31dd70"
      },
      "execution_count": 36,
      "outputs": [
        {
          "output_type": "stream",
          "name": "stdout",
          "text": [
            "Test image: /content/drive/MyDrive/TrashType_Image_Dataset/plastic/plastic_006.jpg\n"
          ]
        }
      ]
    },
    {
      "cell_type": "code",
      "source": [
        "for i, layer in enumerate(model.layers):\n",
        "    print(i, layer.name, type(layer))\n"
      ],
      "metadata": {
        "colab": {
          "base_uri": "https://localhost:8080/"
        },
        "id": "DbE6vwNkb4fR",
        "outputId": "8fedb6ca-2711-4dd3-eec1-d13091bbcd5f"
      },
      "execution_count": 38,
      "outputs": [
        {
          "output_type": "stream",
          "name": "stdout",
          "text": [
            "0 rescaling_4 <class 'keras.src.layers.preprocessing.rescaling.Rescaling'>\n",
            "1 efficientnetv2-b0 <class 'keras.src.models.functional.Functional'>\n",
            "2 global_average_pooling2d_1 <class 'keras.src.layers.pooling.global_average_pooling2d.GlobalAveragePooling2D'>\n",
            "3 dropout_1 <class 'keras.src.layers.regularization.dropout.Dropout'>\n",
            "4 dense_1 <class 'keras.src.layers.core.dense.Dense'>\n"
          ]
        }
      ]
    },
    {
      "cell_type": "code",
      "source": [
        "def make_gradcam_heatmap(img_array, model, last_conv_layer_name, pred_index=None):\n",
        "    base_model = model.layers[1]  # index 1 is your EfficientNet base\n",
        "    last_conv_layer = base_model.get_layer(last_conv_layer_name)\n",
        "\n",
        "    grad_model = tf.keras.models.Model(\n",
        "        inputs=model.inputs,\n",
        "        outputs=[last_conv_layer.output, model.output]\n",
        "    )\n",
        "\n",
        "    with tf.GradientTape() as tape:\n",
        "        conv_outputs, predictions = grad_model(img_array)\n",
        "        if pred_index is None:\n",
        "            pred_index = tf.argmax(predictions[0])\n",
        "        class_channel = predictions[:, pred_index]\n",
        "\n",
        "    grads = tape.gradient(class_channel, conv_outputs)\n",
        "    pooled_grads = tf.reduce_mean(grads, axis=(0, 1, 2))\n",
        "    conv_outputs = conv_outputs[0]\n",
        "\n",
        "    heatmap = conv_outputs @ pooled_grads[..., tf.newaxis]\n",
        "    heatmap = tf.squeeze(heatmap)\n",
        "    heatmap = tf.maximum(heatmap, 0) / tf.math.reduce_max(heatmap)\n",
        "    return heatmap.numpy()\n"
      ],
      "metadata": {
        "id": "3VG5eKuhcl36"
      },
      "execution_count": 42,
      "outputs": []
    },
    {
      "cell_type": "code",
      "source": [
        "_ = model(img_array)  # Forward pass to build the model\n"
      ],
      "metadata": {
        "colab": {
          "base_uri": "https://localhost:8080/"
        },
        "id": "dgUunkZlcu0S",
        "outputId": "60a8d25f-5c60-4e20-832a-b93f107257a4"
      },
      "execution_count": 46,
      "outputs": [
        {
          "output_type": "stream",
          "name": "stderr",
          "text": [
            "/usr/local/lib/python3.11/dist-packages/keras/src/ops/nn.py:907: UserWarning: You are using a softmax over axis -1 of a tensor of shape (1, 1). This axis has size 1. The softmax operation will always return the value 1, which is likely not what you intended. Did you mean to use a sigmoid instead?\n",
            "  warnings.warn(\n"
          ]
        }
      ]
    },
    {
      "cell_type": "code",
      "source": [
        "layers.Dense(num_classes, activation='softmax')\n"
      ],
      "metadata": {
        "colab": {
          "base_uri": "https://localhost:8080/"
        },
        "id": "9cuHFviIc1gq",
        "outputId": "8cedbfa2-bd90-492a-b1a5-c1cf894320ea"
      },
      "execution_count": 48,
      "outputs": [
        {
          "output_type": "execute_result",
          "data": {
            "text/plain": [
              "<Dense name=dense_2, built=False>"
            ]
          },
          "metadata": {},
          "execution_count": 48
        }
      ]
    },
    {
      "cell_type": "code",
      "source": [
        "dummy_input = tf.random.normal([1, 256, 256, 3])  # Batch size 1, same size as your input\n",
        "_ = model(dummy_input)\n"
      ],
      "metadata": {
        "colab": {
          "base_uri": "https://localhost:8080/"
        },
        "id": "QKlfh-e2dABG",
        "outputId": "5b49f193-2361-4693-d053-76a45b26eed5"
      },
      "execution_count": 49,
      "outputs": [
        {
          "output_type": "stream",
          "name": "stderr",
          "text": [
            "/usr/local/lib/python3.11/dist-packages/keras/src/ops/nn.py:907: UserWarning: You are using a softmax over axis -1 of a tensor of shape (1, 1). This axis has size 1. The softmax operation will always return the value 1, which is likely not what you intended. Did you mean to use a sigmoid instead?\n",
            "  warnings.warn(\n"
          ]
        }
      ]
    },
    {
      "cell_type": "code",
      "source": [
        "print(model.layers[-1])  # or whichever layer is dense_2\n"
      ],
      "metadata": {
        "colab": {
          "base_uri": "https://localhost:8080/"
        },
        "id": "j1eyXN63dBkj",
        "outputId": "bbdcb0a2-9de9-4044-a9a3-9d202d225f32"
      },
      "execution_count": 50,
      "outputs": [
        {
          "output_type": "stream",
          "name": "stdout",
          "text": [
            "<Dense name=dense_1, built=True>\n"
          ]
        }
      ]
    },
    {
      "cell_type": "code",
      "source": [
        "_ = model(img_array)\n"
      ],
      "metadata": {
        "colab": {
          "base_uri": "https://localhost:8080/"
        },
        "id": "o_ctUoJ1din5",
        "outputId": "a6c6aad7-63e2-4772-a0e7-6db400dbf5a0"
      },
      "execution_count": 57,
      "outputs": [
        {
          "output_type": "stream",
          "name": "stderr",
          "text": [
            "/usr/local/lib/python3.11/dist-packages/keras/src/ops/nn.py:907: UserWarning: You are using a softmax over axis -1 of a tensor of shape (1, 1). This axis has size 1. The softmax operation will always return the value 1, which is likely not what you intended. Did you mean to use a sigmoid instead?\n",
            "  warnings.warn(\n"
          ]
        }
      ]
    },
    {
      "cell_type": "code",
      "source": [
        "print(f\"Number of classes: {num_classes}\")\n",
        "print(model.layers[-1].units)\n"
      ],
      "metadata": {
        "colab": {
          "base_uri": "https://localhost:8080/"
        },
        "id": "KTz6P2CYdyH0",
        "outputId": "620d3173-e87c-42dd-b486-5c0831f8c9c9"
      },
      "execution_count": 58,
      "outputs": [
        {
          "output_type": "stream",
          "name": "stdout",
          "text": [
            "Number of classes: 1\n",
            "1\n"
          ]
        }
      ]
    },
    {
      "cell_type": "code",
      "source": [
        "import os\n",
        "\n",
        "dataset_dir = '/content/drive/MyDrive/TrashType_Image_Dataset'\n",
        "print(\"Classes found:\")\n",
        "print(os.listdir(dataset_dir))\n"
      ],
      "metadata": {
        "colab": {
          "base_uri": "https://localhost:8080/"
        },
        "id": "09sxrlF_eHUl",
        "outputId": "73b877b3-a51c-4562-eb49-9e880d6ff97d"
      },
      "execution_count": 59,
      "outputs": [
        {
          "output_type": "stream",
          "name": "stdout",
          "text": [
            "Classes found:\n",
            "['.DS_Store', 'plastic']\n"
          ]
        }
      ]
    },
    {
      "cell_type": "code",
      "source": [
        "!find /content/drive/MyDrive/TrashType_Image_Dataset -name \".DS_Store\" -delete\n"
      ],
      "metadata": {
        "id": "WLLZ657IeQJo"
      },
      "execution_count": 61,
      "outputs": []
    },
    {
      "cell_type": "code",
      "source": [
        "train_ds = tf.keras.utils.image_dataset_from_directory(\n",
        "    dataset_dir,\n",
        "    validation_split=0.2,\n",
        "    subset=\"training\",\n",
        "    seed=seed,\n",
        "    image_size=image_size,\n",
        "    batch_size=batch_size\n",
        ")\n",
        "val_ds = tf.keras.utils.image_dataset_from_directory(\n",
        "    dataset_dir,\n",
        "    validation_split=0.2,\n",
        "    subset=\"validation\",\n",
        "    seed=seed,\n",
        "    image_size=image_size,\n",
        "    batch_size=batch_size\n",
        ")\n",
        "\n",
        "class_names = train_ds.class_names\n",
        "print(\"Classes:\", class_names)\n",
        "print(\"Num classes:\", len(class_names))\n"
      ],
      "metadata": {
        "colab": {
          "base_uri": "https://localhost:8080/"
        },
        "id": "-3D6A-Tbe1i2",
        "outputId": "617d224d-2dcf-4fc3-8a99-60686fd1ea4b"
      },
      "execution_count": 62,
      "outputs": [
        {
          "output_type": "stream",
          "name": "stdout",
          "text": [
            "Found 18 files belonging to 1 classes.\n",
            "Using 15 files for training.\n",
            "Found 18 files belonging to 1 classes.\n",
            "Using 3 files for validation.\n",
            "Classes: ['plastic']\n",
            "Num classes: 1\n"
          ]
        }
      ]
    },
    {
      "cell_type": "code",
      "source": [
        "import os\n",
        "\n",
        "dataset_dir = '/content/drive/MyDrive/TrashType_Image_Dataset'\n",
        "\n",
        "# List all subfolders (classes)\n",
        "classes = [f for f in os.listdir(dataset_dir) if os.path.isdir(os.path.join(dataset_dir, f))]\n",
        "print(\"Classes found:\", classes)\n",
        "\n",
        "# List contents of each class folder (first 5 files to avoid too much output)\n",
        "for c in classes:\n",
        "    class_path = os.path.join(dataset_dir, c)\n",
        "    files = os.listdir(class_path)[:5]\n",
        "    print(f\"Class '{c}' samples:\", files)\n"
      ],
      "metadata": {
        "colab": {
          "base_uri": "https://localhost:8080/"
        },
        "id": "SpV0P-90fWE7",
        "outputId": "040806b4-fcb2-4085-8888-47a5cad1728c"
      },
      "execution_count": 64,
      "outputs": [
        {
          "output_type": "stream",
          "name": "stdout",
          "text": [
            "Classes found: ['plastic']\n",
            "Class 'plastic' samples: ['plastic_003.jpg', 'plastic_012.jpg', 'plastic_006.jpg', 'plastic_007.jpg', 'plastic_004.jpg']\n"
          ]
        }
      ]
    },
    {
      "cell_type": "code",
      "source": [
        "import tensorflow as tf\n",
        "\n",
        "img_height = 224\n",
        "img_width = 224\n",
        "batch_size = 32\n",
        "\n",
        "train_ds = tf.keras.utils.image_dataset_from_directory(\n",
        "    dataset_dir,\n",
        "    validation_split=0.2,\n",
        "    subset=\"training\",\n",
        "    seed=123,\n",
        "    image_size=(img_height, img_width),\n",
        "    batch_size=batch_size\n",
        ")\n",
        "\n",
        "val_ds = tf.keras.utils.image_dataset_from_directory(\n",
        "    dataset_dir,\n",
        "    validation_split=0.2,\n",
        "    subset=\"validation\",\n",
        "    seed=123,\n",
        "    image_size=(img_height, img_width),\n",
        "    batch_size=batch_size\n",
        ")\n",
        "\n",
        "class_names = train_ds.class_names\n",
        "print(class_names)\n"
      ],
      "metadata": {
        "colab": {
          "base_uri": "https://localhost:8080/"
        },
        "id": "JKwP8a0dhAWP",
        "outputId": "f9b7de6c-28b0-4be0-e1e1-7000b41f7f5d"
      },
      "execution_count": 69,
      "outputs": [
        {
          "output_type": "stream",
          "name": "stdout",
          "text": [
            "Found 64 files belonging to 6 classes.\n",
            "Using 52 files for training.\n",
            "Found 64 files belonging to 6 classes.\n",
            "Using 12 files for validation.\n",
            "['cardboard', 'glass', 'metal', 'paper', 'plastic', 'trash']\n"
          ]
        }
      ]
    },
    {
      "cell_type": "code",
      "source": [
        "AUTOTUNE = tf.data.AUTOTUNE\n",
        "\n",
        "train_ds = train_ds.prefetch(buffer_size=AUTOTUNE)\n",
        "val_ds = val_ds.prefetch(buffer_size=AUTOTUNE)\n"
      ],
      "metadata": {
        "id": "KLPRZbIshDF8"
      },
      "execution_count": 70,
      "outputs": []
    },
    {
      "cell_type": "code",
      "source": [
        "!ls -R /content/drive/MyDrive/TrashType_Image_Dataset\n"
      ],
      "metadata": {
        "colab": {
          "base_uri": "https://localhost:8080/"
        },
        "id": "X3V7pV2If_Iq",
        "outputId": "e221975e-e9ab-4eb4-8656-81ec300d6019"
      },
      "execution_count": 68,
      "outputs": [
        {
          "output_type": "stream",
          "name": "stdout",
          "text": [
            "/content/drive/MyDrive/TrashType_Image_Dataset:\n",
            "cardboard  glass  metal  paper\tplastic\n",
            "\n",
            "/content/drive/MyDrive/TrashType_Image_Dataset/cardboard:\n",
            " 360_F_816911064_Ak4KB6cng9WKvzCr3HP49PnOiq3g0Kkd.jpg\n",
            " cardboard-waste-EG82M8.jpg\n",
            " cardboard-waste-paper-500x500.webp\n",
            " cardboard-waste-recycling.jpg\n",
            "'images (1).jpeg'\n",
            "'images copy.jpeg'\n",
            " images.jpeg\n",
            " istockphoto-148074133-612x612.jpg\n",
            " Paper-and-Cardboard-Waste465x465.webp\n",
            " Why-is-cardboard-waste-a-problem-featured.webp\n",
            "\n",
            "/content/drive/MyDrive/TrashType_Image_Dataset/glass:\n",
            "'64437d16353df8e86c183658_sec-1 img-1.png'\n",
            " glass-recycling.jpg\n",
            "'images (1).jpeg'\n",
            "'images (2).jpeg'\n",
            "'images (3).jpeg'\n",
            "'images (4).jpeg'\n",
            " images.jpeg\n",
            " iStock-1081866910.jpg\n",
            " RR-Blog-Why-Glass-Recycling-Going-Away.webp\n",
            " Untitled-design-13-1.jpg\n",
            " Waste-Glass.jpg\n",
            "\n",
            "/content/drive/MyDrive/TrashType_Image_Dataset/metal:\n",
            " Depositphotos_40012335_xl-2015_optimized.jpg\n",
            "'images (1).jpeg'\n",
            "'images (2).jpeg'\n",
            "'images (3).jpeg'\n",
            "'images (4).jpeg'\n",
            "'images (5).jpeg'\n",
            "'images (6).jpeg'\n",
            "'images (7).jpeg'\n",
            " images.jpeg\n",
            " istockphoto-531543158-612x612.jpg\n",
            " metal-waste-disposal-industrial-site-2G9C083.jpg\n",
            "\n",
            "/content/drive/MyDrive/TrashType_Image_Dataset/paper:\n",
            " cardboard-and-waste-paper-is-collected-and-packaged-for-recycling-cardboard-is-bundled-into-pile-paper-urban-trash-for-recycling-2C9CEJ2.jpg\n",
            "'images (1).jpeg'\n",
            "'images (2).jpeg'\n",
            "'images (3).jpeg'\n",
            "'images (4).jpeg'\n",
            " images.jpeg\n",
            " Mervin-Feature-image-2025-05-05T162131.847-1746442306.jpg\n",
            " paper-packages-piled-high-for-recycling-plant_9495716d-bd37-4a6c-8f95-da4846736c35_1112x.webp\n",
            " paper-waste-why-it-matters-how-to-reduce-it-the-reel-talk-313906_1024x1024.webp\n",
            " waste-paper-11.avif\n",
            "\n",
            "/content/drive/MyDrive/TrashType_Image_Dataset/plastic:\n"
          ]
        }
      ]
    },
    {
      "cell_type": "code",
      "source": [
        "import tensorflow as tf\n",
        "from tensorflow.keras import layers, models\n",
        "from tensorflow.keras.applications import EfficientNetV2B0\n",
        "\n",
        "num_classes = len(class_names)\n",
        "\n",
        "base_model = EfficientNetV2B0(input_shape=(224, 224, 3), include_top=False, weights='imagenet')\n",
        "base_model.trainable = False\n",
        "\n",
        "inputs = tf.keras.Input(shape=(224, 224, 3))\n",
        "x = layers.Rescaling(1./255)(inputs)\n",
        "x = base_model(x, training=False)\n",
        "x = layers.GlobalAveragePooling2D()(x)\n",
        "x = layers.Dropout(0.2)(x)\n",
        "outputs = layers.Dense(num_classes, activation='softmax')(x)\n",
        "\n",
        "model = models.Model(inputs, outputs)\n",
        "\n",
        "model.compile(optimizer='adam',\n",
        "              loss='sparse_categorical_crossentropy',\n",
        "              metrics=['accuracy'])\n",
        "\n",
        "model.summary()\n"
      ],
      "metadata": {
        "colab": {
          "base_uri": "https://localhost:8080/",
          "height": 347
        },
        "id": "SLpkvjq5hKmZ",
        "outputId": "b13f156c-6d5f-44f4-d43d-dfc863d1adbe"
      },
      "execution_count": 71,
      "outputs": [
        {
          "output_type": "display_data",
          "data": {
            "text/plain": [
              "\u001b[1mModel: \"functional_3\"\u001b[0m\n"
            ],
            "text/html": [
              "<pre style=\"white-space:pre;overflow-x:auto;line-height:normal;font-family:Menlo,'DejaVu Sans Mono',consolas,'Courier New',monospace\"><span style=\"font-weight: bold\">Model: \"functional_3\"</span>\n",
              "</pre>\n"
            ]
          },
          "metadata": {}
        },
        {
          "output_type": "display_data",
          "data": {
            "text/plain": [
              "┏━━━━━━━━━━━━━━━━━━━━━━━━━━━━━━━━━┳━━━━━━━━━━━━━━━━━━━━━━━━┳━━━━━━━━━━━━━━━┓\n",
              "┃\u001b[1m \u001b[0m\u001b[1mLayer (type)                   \u001b[0m\u001b[1m \u001b[0m┃\u001b[1m \u001b[0m\u001b[1mOutput Shape          \u001b[0m\u001b[1m \u001b[0m┃\u001b[1m \u001b[0m\u001b[1m      Param #\u001b[0m\u001b[1m \u001b[0m┃\n",
              "┡━━━━━━━━━━━━━━━━━━━━━━━━━━━━━━━━━╇━━━━━━━━━━━━━━━━━━━━━━━━╇━━━━━━━━━━━━━━━┩\n",
              "│ input_layer_7 (\u001b[38;5;33mInputLayer\u001b[0m)      │ (\u001b[38;5;45mNone\u001b[0m, \u001b[38;5;34m224\u001b[0m, \u001b[38;5;34m224\u001b[0m, \u001b[38;5;34m3\u001b[0m)    │             \u001b[38;5;34m0\u001b[0m │\n",
              "├─────────────────────────────────┼────────────────────────┼───────────────┤\n",
              "│ rescaling_6 (\u001b[38;5;33mRescaling\u001b[0m)         │ (\u001b[38;5;45mNone\u001b[0m, \u001b[38;5;34m224\u001b[0m, \u001b[38;5;34m224\u001b[0m, \u001b[38;5;34m3\u001b[0m)    │             \u001b[38;5;34m0\u001b[0m │\n",
              "├─────────────────────────────────┼────────────────────────┼───────────────┤\n",
              "│ efficientnetv2-b0 (\u001b[38;5;33mFunctional\u001b[0m)  │ (\u001b[38;5;45mNone\u001b[0m, \u001b[38;5;34m7\u001b[0m, \u001b[38;5;34m7\u001b[0m, \u001b[38;5;34m1280\u001b[0m)     │     \u001b[38;5;34m5,919,312\u001b[0m │\n",
              "├─────────────────────────────────┼────────────────────────┼───────────────┤\n",
              "│ global_average_pooling2d_2      │ (\u001b[38;5;45mNone\u001b[0m, \u001b[38;5;34m1280\u001b[0m)           │             \u001b[38;5;34m0\u001b[0m │\n",
              "│ (\u001b[38;5;33mGlobalAveragePooling2D\u001b[0m)        │                        │               │\n",
              "├─────────────────────────────────┼────────────────────────┼───────────────┤\n",
              "│ dropout_2 (\u001b[38;5;33mDropout\u001b[0m)             │ (\u001b[38;5;45mNone\u001b[0m, \u001b[38;5;34m1280\u001b[0m)           │             \u001b[38;5;34m0\u001b[0m │\n",
              "├─────────────────────────────────┼────────────────────────┼───────────────┤\n",
              "│ dense_3 (\u001b[38;5;33mDense\u001b[0m)                 │ (\u001b[38;5;45mNone\u001b[0m, \u001b[38;5;34m6\u001b[0m)              │         \u001b[38;5;34m7,686\u001b[0m │\n",
              "└─────────────────────────────────┴────────────────────────┴───────────────┘\n"
            ],
            "text/html": [
              "<pre style=\"white-space:pre;overflow-x:auto;line-height:normal;font-family:Menlo,'DejaVu Sans Mono',consolas,'Courier New',monospace\">┏━━━━━━━━━━━━━━━━━━━━━━━━━━━━━━━━━┳━━━━━━━━━━━━━━━━━━━━━━━━┳━━━━━━━━━━━━━━━┓\n",
              "┃<span style=\"font-weight: bold\"> Layer (type)                    </span>┃<span style=\"font-weight: bold\"> Output Shape           </span>┃<span style=\"font-weight: bold\">       Param # </span>┃\n",
              "┡━━━━━━━━━━━━━━━━━━━━━━━━━━━━━━━━━╇━━━━━━━━━━━━━━━━━━━━━━━━╇━━━━━━━━━━━━━━━┩\n",
              "│ input_layer_7 (<span style=\"color: #0087ff; text-decoration-color: #0087ff\">InputLayer</span>)      │ (<span style=\"color: #00d7ff; text-decoration-color: #00d7ff\">None</span>, <span style=\"color: #00af00; text-decoration-color: #00af00\">224</span>, <span style=\"color: #00af00; text-decoration-color: #00af00\">224</span>, <span style=\"color: #00af00; text-decoration-color: #00af00\">3</span>)    │             <span style=\"color: #00af00; text-decoration-color: #00af00\">0</span> │\n",
              "├─────────────────────────────────┼────────────────────────┼───────────────┤\n",
              "│ rescaling_6 (<span style=\"color: #0087ff; text-decoration-color: #0087ff\">Rescaling</span>)         │ (<span style=\"color: #00d7ff; text-decoration-color: #00d7ff\">None</span>, <span style=\"color: #00af00; text-decoration-color: #00af00\">224</span>, <span style=\"color: #00af00; text-decoration-color: #00af00\">224</span>, <span style=\"color: #00af00; text-decoration-color: #00af00\">3</span>)    │             <span style=\"color: #00af00; text-decoration-color: #00af00\">0</span> │\n",
              "├─────────────────────────────────┼────────────────────────┼───────────────┤\n",
              "│ efficientnetv2-b0 (<span style=\"color: #0087ff; text-decoration-color: #0087ff\">Functional</span>)  │ (<span style=\"color: #00d7ff; text-decoration-color: #00d7ff\">None</span>, <span style=\"color: #00af00; text-decoration-color: #00af00\">7</span>, <span style=\"color: #00af00; text-decoration-color: #00af00\">7</span>, <span style=\"color: #00af00; text-decoration-color: #00af00\">1280</span>)     │     <span style=\"color: #00af00; text-decoration-color: #00af00\">5,919,312</span> │\n",
              "├─────────────────────────────────┼────────────────────────┼───────────────┤\n",
              "│ global_average_pooling2d_2      │ (<span style=\"color: #00d7ff; text-decoration-color: #00d7ff\">None</span>, <span style=\"color: #00af00; text-decoration-color: #00af00\">1280</span>)           │             <span style=\"color: #00af00; text-decoration-color: #00af00\">0</span> │\n",
              "│ (<span style=\"color: #0087ff; text-decoration-color: #0087ff\">GlobalAveragePooling2D</span>)        │                        │               │\n",
              "├─────────────────────────────────┼────────────────────────┼───────────────┤\n",
              "│ dropout_2 (<span style=\"color: #0087ff; text-decoration-color: #0087ff\">Dropout</span>)             │ (<span style=\"color: #00d7ff; text-decoration-color: #00d7ff\">None</span>, <span style=\"color: #00af00; text-decoration-color: #00af00\">1280</span>)           │             <span style=\"color: #00af00; text-decoration-color: #00af00\">0</span> │\n",
              "├─────────────────────────────────┼────────────────────────┼───────────────┤\n",
              "│ dense_3 (<span style=\"color: #0087ff; text-decoration-color: #0087ff\">Dense</span>)                 │ (<span style=\"color: #00d7ff; text-decoration-color: #00d7ff\">None</span>, <span style=\"color: #00af00; text-decoration-color: #00af00\">6</span>)              │         <span style=\"color: #00af00; text-decoration-color: #00af00\">7,686</span> │\n",
              "└─────────────────────────────────┴────────────────────────┴───────────────┘\n",
              "</pre>\n"
            ]
          },
          "metadata": {}
        },
        {
          "output_type": "display_data",
          "data": {
            "text/plain": [
              "\u001b[1m Total params: \u001b[0m\u001b[38;5;34m5,926,998\u001b[0m (22.61 MB)\n"
            ],
            "text/html": [
              "<pre style=\"white-space:pre;overflow-x:auto;line-height:normal;font-family:Menlo,'DejaVu Sans Mono',consolas,'Courier New',monospace\"><span style=\"font-weight: bold\"> Total params: </span><span style=\"color: #00af00; text-decoration-color: #00af00\">5,926,998</span> (22.61 MB)\n",
              "</pre>\n"
            ]
          },
          "metadata": {}
        },
        {
          "output_type": "display_data",
          "data": {
            "text/plain": [
              "\u001b[1m Trainable params: \u001b[0m\u001b[38;5;34m7,686\u001b[0m (30.02 KB)\n"
            ],
            "text/html": [
              "<pre style=\"white-space:pre;overflow-x:auto;line-height:normal;font-family:Menlo,'DejaVu Sans Mono',consolas,'Courier New',monospace\"><span style=\"font-weight: bold\"> Trainable params: </span><span style=\"color: #00af00; text-decoration-color: #00af00\">7,686</span> (30.02 KB)\n",
              "</pre>\n"
            ]
          },
          "metadata": {}
        },
        {
          "output_type": "display_data",
          "data": {
            "text/plain": [
              "\u001b[1m Non-trainable params: \u001b[0m\u001b[38;5;34m5,919,312\u001b[0m (22.58 MB)\n"
            ],
            "text/html": [
              "<pre style=\"white-space:pre;overflow-x:auto;line-height:normal;font-family:Menlo,'DejaVu Sans Mono',consolas,'Courier New',monospace\"><span style=\"font-weight: bold\"> Non-trainable params: </span><span style=\"color: #00af00; text-decoration-color: #00af00\">5,919,312</span> (22.58 MB)\n",
              "</pre>\n"
            ]
          },
          "metadata": {}
        }
      ]
    },
    {
      "cell_type": "code",
      "source": [
        "epochs = 10\n",
        "\n",
        "history = model.fit(\n",
        "    train_ds,\n",
        "    validation_data=val_ds,\n",
        "    epochs=epochs\n",
        ")\n"
      ],
      "metadata": {
        "colab": {
          "base_uri": "https://localhost:8080/"
        },
        "id": "p1ccLpZehNia",
        "outputId": "30a342e3-212f-4636-bf93-9569175d86ac"
      },
      "execution_count": 72,
      "outputs": [
        {
          "output_type": "stream",
          "name": "stdout",
          "text": [
            "Epoch 1/10\n",
            "\u001b[1m2/2\u001b[0m \u001b[32m━━━━━━━━━━━━━━━━━━━━\u001b[0m\u001b[37m\u001b[0m \u001b[1m37s\u001b[0m 12s/step - accuracy: 0.1651 - loss: 1.8264 - val_accuracy: 0.0000e+00 - val_loss: 1.9156\n",
            "Epoch 2/10\n",
            "\u001b[1m2/2\u001b[0m \u001b[32m━━━━━━━━━━━━━━━━━━━━\u001b[0m\u001b[37m\u001b[0m \u001b[1m4s\u001b[0m 2s/step - accuracy: 0.1955 - loss: 1.7327 - val_accuracy: 0.2500 - val_loss: 1.9618\n",
            "Epoch 3/10\n",
            "\u001b[1m2/2\u001b[0m \u001b[32m━━━━━━━━━━━━━━━━━━━━\u001b[0m\u001b[37m\u001b[0m \u001b[1m5s\u001b[0m 2s/step - accuracy: 0.1955 - loss: 1.7243 - val_accuracy: 0.2500 - val_loss: 2.0293\n",
            "Epoch 4/10\n",
            "\u001b[1m2/2\u001b[0m \u001b[32m━━━━━━━━━━━━━━━━━━━━\u001b[0m\u001b[37m\u001b[0m \u001b[1m3s\u001b[0m 2s/step - accuracy: 0.2965 - loss: 1.7420 - val_accuracy: 0.2500 - val_loss: 2.0596\n",
            "Epoch 5/10\n",
            "\u001b[1m2/2\u001b[0m \u001b[32m━━━━━━━━━━━━━━━━━━━━\u001b[0m\u001b[37m\u001b[0m \u001b[1m3s\u001b[0m 1s/step - accuracy: 0.3173 - loss: 1.7130 - val_accuracy: 0.2500 - val_loss: 2.0529\n",
            "Epoch 6/10\n",
            "\u001b[1m2/2\u001b[0m \u001b[32m━━━━━━━━━━━━━━━━━━━━\u001b[0m\u001b[37m\u001b[0m \u001b[1m6s\u001b[0m 1s/step - accuracy: 0.2756 - loss: 1.7905 - val_accuracy: 0.2500 - val_loss: 2.0144\n",
            "Epoch 7/10\n",
            "\u001b[1m2/2\u001b[0m \u001b[32m━━━━━━━━━━━━━━━━━━━━\u001b[0m\u001b[37m\u001b[0m \u001b[1m3s\u001b[0m 1s/step - accuracy: 0.2965 - loss: 1.6838 - val_accuracy: 0.2500 - val_loss: 1.9877\n",
            "Epoch 8/10\n",
            "\u001b[1m2/2\u001b[0m \u001b[32m━━━━━━━━━━━━━━━━━━━━\u001b[0m\u001b[37m\u001b[0m \u001b[1m5s\u001b[0m 2s/step - accuracy: 0.2756 - loss: 1.7468 - val_accuracy: 0.2500 - val_loss: 1.9570\n",
            "Epoch 9/10\n",
            "\u001b[1m2/2\u001b[0m \u001b[32m━━━━━━━━━━━━━━━━━━━━\u001b[0m\u001b[37m\u001b[0m \u001b[1m5s\u001b[0m 2s/step - accuracy: 0.2732 - loss: 1.7265 - val_accuracy: 0.2500 - val_loss: 1.9480\n",
            "Epoch 10/10\n",
            "\u001b[1m2/2\u001b[0m \u001b[32m━━━━━━━━━━━━━━━━━━━━\u001b[0m\u001b[37m\u001b[0m \u001b[1m5s\u001b[0m 2s/step - accuracy: 0.2676 - loss: 1.7347 - val_accuracy: 0.2500 - val_loss: 1.9286\n"
          ]
        }
      ]
    },
    {
      "cell_type": "code",
      "source": [
        "model.save('/content/garbage_classifier_model.keras')\n",
        "\n",
        "model.export('/content/garbage_classifier_saved_model')\n",
        "\n",
        "import tensorflow as tf\n",
        "\n",
        "converter = tf.lite.TFLiteConverter.from_saved_model('/content/garbage_classifier_saved_model')\n",
        "tflite_model = converter.convert()\n",
        "\n",
        "with open('/content/garbage_classifier_model.tflite', 'wb') as f:\n",
        "    f.write(tflite_model)\n"
      ],
      "metadata": {
        "colab": {
          "base_uri": "https://localhost:8080/"
        },
        "id": "ftGY_C87hkaN",
        "outputId": "cfab04f0-88d6-42fd-e320-a09de4c94161"
      },
      "execution_count": 74,
      "outputs": [
        {
          "output_type": "stream",
          "name": "stdout",
          "text": [
            "Saved artifact at '/content/garbage_classifier_saved_model'. The following endpoints are available:\n",
            "\n",
            "* Endpoint 'serve'\n",
            "  args_0 (POSITIONAL_ONLY): TensorSpec(shape=(None, 224, 224, 3), dtype=tf.float32, name='keras_tensor_1368')\n",
            "Output Type:\n",
            "  TensorSpec(shape=(None, 6), dtype=tf.float32, name=None)\n",
            "Captures:\n",
            "  138503079580048: TensorSpec(shape=(1, 1, 1, 3), dtype=tf.float32, name=None)\n",
            "  138503079578896: TensorSpec(shape=(1, 1, 1, 3), dtype=tf.float32, name=None)\n",
            "  138503079576592: TensorSpec(shape=(), dtype=tf.resource, name=None)\n",
            "  138503079577744: TensorSpec(shape=(), dtype=tf.resource, name=None)\n",
            "  138503079584848: TensorSpec(shape=(), dtype=tf.resource, name=None)\n",
            "  138503079586192: TensorSpec(shape=(), dtype=tf.resource, name=None)\n",
            "  138503079577360: TensorSpec(shape=(), dtype=tf.resource, name=None)\n",
            "  138503079582352: TensorSpec(shape=(), dtype=tf.resource, name=None)\n",
            "  138503079584464: TensorSpec(shape=(), dtype=tf.resource, name=None)\n",
            "  138503079580240: TensorSpec(shape=(), dtype=tf.resource, name=None)\n",
            "  138503079581776: TensorSpec(shape=(), dtype=tf.resource, name=None)\n",
            "  138503079579280: TensorSpec(shape=(), dtype=tf.resource, name=None)\n",
            "  138503079585424: TensorSpec(shape=(), dtype=tf.resource, name=None)\n",
            "  138503071555536: TensorSpec(shape=(), dtype=tf.resource, name=None)\n",
            "  138503071558224: TensorSpec(shape=(), dtype=tf.resource, name=None)\n",
            "  138503079583504: TensorSpec(shape=(), dtype=tf.resource, name=None)\n",
            "  138503079582736: TensorSpec(shape=(), dtype=tf.resource, name=None)\n",
            "  138503071550352: TensorSpec(shape=(), dtype=tf.resource, name=None)\n",
            "  138503071559184: TensorSpec(shape=(), dtype=tf.resource, name=None)\n",
            "  138503071560336: TensorSpec(shape=(), dtype=tf.resource, name=None)\n",
            "  138503071549392: TensorSpec(shape=(), dtype=tf.resource, name=None)\n",
            "  138503071557264: TensorSpec(shape=(), dtype=tf.resource, name=None)\n",
            "  138503071557072: TensorSpec(shape=(), dtype=tf.resource, name=None)\n",
            "  138503071557840: TensorSpec(shape=(), dtype=tf.resource, name=None)\n",
            "  138503071554384: TensorSpec(shape=(), dtype=tf.resource, name=None)\n",
            "  138503071556112: TensorSpec(shape=(), dtype=tf.resource, name=None)\n",
            "  138503071558032: TensorSpec(shape=(), dtype=tf.resource, name=None)\n",
            "  138503071555152: TensorSpec(shape=(), dtype=tf.resource, name=None)\n",
            "  138503071553424: TensorSpec(shape=(), dtype=tf.resource, name=None)\n",
            "  138503071554576: TensorSpec(shape=(), dtype=tf.resource, name=None)\n",
            "  138503071559376: TensorSpec(shape=(), dtype=tf.resource, name=None)\n",
            "  138503071562448: TensorSpec(shape=(), dtype=tf.resource, name=None)\n",
            "  138503071554000: TensorSpec(shape=(), dtype=tf.resource, name=None)\n",
            "  138503071549200: TensorSpec(shape=(), dtype=tf.resource, name=None)\n",
            "  138503071549968: TensorSpec(shape=(), dtype=tf.resource, name=None)\n",
            "  138503071549584: TensorSpec(shape=(), dtype=tf.resource, name=None)\n",
            "  138503071554960: TensorSpec(shape=(), dtype=tf.resource, name=None)\n",
            "  138503071548432: TensorSpec(shape=(), dtype=tf.resource, name=None)\n",
            "  138503071552272: TensorSpec(shape=(), dtype=tf.resource, name=None)\n",
            "  138503071551312: TensorSpec(shape=(), dtype=tf.resource, name=None)\n",
            "  138503071550544: TensorSpec(shape=(), dtype=tf.resource, name=None)\n",
            "  138503071547856: TensorSpec(shape=(), dtype=tf.resource, name=None)\n",
            "  138503071550160: TensorSpec(shape=(), dtype=tf.resource, name=None)\n",
            "  138503029173968: TensorSpec(shape=(), dtype=tf.resource, name=None)\n",
            "  138503029175696: TensorSpec(shape=(), dtype=tf.resource, name=None)\n",
            "  138503071553232: TensorSpec(shape=(), dtype=tf.resource, name=None)\n",
            "  138503029178000: TensorSpec(shape=(), dtype=tf.resource, name=None)\n",
            "  138503097830672: TensorSpec(shape=(), dtype=tf.resource, name=None)\n",
            "  138503029173584: TensorSpec(shape=(), dtype=tf.resource, name=None)\n",
            "  138503029174352: TensorSpec(shape=(), dtype=tf.resource, name=None)\n",
            "  138503029173776: TensorSpec(shape=(), dtype=tf.resource, name=None)\n",
            "  138503029174928: TensorSpec(shape=(), dtype=tf.resource, name=None)\n",
            "  138503073192016: TensorSpec(shape=(), dtype=tf.resource, name=None)\n",
            "  138503073192592: TensorSpec(shape=(), dtype=tf.resource, name=None)\n",
            "  138503073187024: TensorSpec(shape=(), dtype=tf.resource, name=None)\n",
            "  138503073189712: TensorSpec(shape=(), dtype=tf.resource, name=None)\n",
            "  138503073185872: TensorSpec(shape=(), dtype=tf.resource, name=None)\n",
            "  138503073186832: TensorSpec(shape=(), dtype=tf.resource, name=None)\n",
            "  138503073188752: TensorSpec(shape=(), dtype=tf.resource, name=None)\n",
            "  138503073201808: TensorSpec(shape=(), dtype=tf.resource, name=None)\n",
            "  138503073199696: TensorSpec(shape=(), dtype=tf.resource, name=None)\n",
            "  138503073186064: TensorSpec(shape=(), dtype=tf.resource, name=None)\n",
            "  138503073198736: TensorSpec(shape=(), dtype=tf.resource, name=None)\n",
            "  138503073198352: TensorSpec(shape=(), dtype=tf.resource, name=None)\n",
            "  138503073186448: TensorSpec(shape=(), dtype=tf.resource, name=None)\n",
            "  138503073188176: TensorSpec(shape=(), dtype=tf.resource, name=None)\n",
            "  138503073200848: TensorSpec(shape=(), dtype=tf.resource, name=None)\n",
            "  138503073196816: TensorSpec(shape=(), dtype=tf.resource, name=None)\n",
            "  138503073199888: TensorSpec(shape=(), dtype=tf.resource, name=None)\n",
            "  138503073197200: TensorSpec(shape=(), dtype=tf.resource, name=None)\n",
            "  138503073197008: TensorSpec(shape=(), dtype=tf.resource, name=None)\n",
            "  138503073198160: TensorSpec(shape=(), dtype=tf.resource, name=None)\n",
            "  138503073199504: TensorSpec(shape=(), dtype=tf.resource, name=None)\n",
            "  138503073193744: TensorSpec(shape=(), dtype=tf.resource, name=None)\n",
            "  138503073198928: TensorSpec(shape=(), dtype=tf.resource, name=None)\n",
            "  138503073200272: TensorSpec(shape=(), dtype=tf.resource, name=None)\n",
            "  138503073196240: TensorSpec(shape=(), dtype=tf.resource, name=None)\n",
            "  138503073193552: TensorSpec(shape=(), dtype=tf.resource, name=None)\n",
            "  138503073191248: TensorSpec(shape=(), dtype=tf.resource, name=None)\n",
            "  138503073194512: TensorSpec(shape=(), dtype=tf.resource, name=None)\n",
            "  138503073190480: TensorSpec(shape=(), dtype=tf.resource, name=None)\n",
            "  138503073195472: TensorSpec(shape=(), dtype=tf.resource, name=None)\n",
            "  138503073190864: TensorSpec(shape=(), dtype=tf.resource, name=None)\n",
            "  138503073197392: TensorSpec(shape=(), dtype=tf.resource, name=None)\n",
            "  138503073197968: TensorSpec(shape=(), dtype=tf.resource, name=None)\n",
            "  138503073193936: TensorSpec(shape=(), dtype=tf.resource, name=None)\n",
            "  138503073190672: TensorSpec(shape=(), dtype=tf.resource, name=None)\n",
            "  138503073188560: TensorSpec(shape=(), dtype=tf.resource, name=None)\n",
            "  138503073190288: TensorSpec(shape=(), dtype=tf.resource, name=None)\n",
            "  138503073187408: TensorSpec(shape=(), dtype=tf.resource, name=None)\n",
            "  138503073187216: TensorSpec(shape=(), dtype=tf.resource, name=None)\n",
            "  138503075636496: TensorSpec(shape=(), dtype=tf.resource, name=None)\n",
            "  138503075638992: TensorSpec(shape=(), dtype=tf.resource, name=None)\n",
            "  138503073192976: TensorSpec(shape=(), dtype=tf.resource, name=None)\n",
            "  138503075633040: TensorSpec(shape=(), dtype=tf.resource, name=None)\n",
            "  138503075640720: TensorSpec(shape=(), dtype=tf.resource, name=None)\n",
            "  138503075638608: TensorSpec(shape=(), dtype=tf.resource, name=None)\n",
            "  138503075642064: TensorSpec(shape=(), dtype=tf.resource, name=None)\n",
            "  138503075640336: TensorSpec(shape=(), dtype=tf.resource, name=None)\n",
            "  138503075642256: TensorSpec(shape=(), dtype=tf.resource, name=None)\n",
            "  138503075637456: TensorSpec(shape=(), dtype=tf.resource, name=None)\n",
            "  138503075638032: TensorSpec(shape=(), dtype=tf.resource, name=None)\n",
            "  138503075640912: TensorSpec(shape=(), dtype=tf.resource, name=None)\n",
            "  138503075640528: TensorSpec(shape=(), dtype=tf.resource, name=None)\n",
            "  138503075639184: TensorSpec(shape=(), dtype=tf.resource, name=None)\n",
            "  138503075643216: TensorSpec(shape=(), dtype=tf.resource, name=None)\n",
            "  138503075642640: TensorSpec(shape=(), dtype=tf.resource, name=None)\n",
            "  138503075639952: TensorSpec(shape=(), dtype=tf.resource, name=None)\n",
            "  138503075641296: TensorSpec(shape=(), dtype=tf.resource, name=None)\n",
            "  138503075639568: TensorSpec(shape=(), dtype=tf.resource, name=None)\n",
            "  138503073449744: TensorSpec(shape=(), dtype=tf.resource, name=None)\n",
            "  138503073448208: TensorSpec(shape=(), dtype=tf.resource, name=None)\n",
            "  138503073450128: TensorSpec(shape=(), dtype=tf.resource, name=None)\n",
            "  138503073449168: TensorSpec(shape=(), dtype=tf.resource, name=None)\n",
            "  138503073451280: TensorSpec(shape=(), dtype=tf.resource, name=None)\n",
            "  138503073450896: TensorSpec(shape=(), dtype=tf.resource, name=None)\n",
            "  138503073452240: TensorSpec(shape=(), dtype=tf.resource, name=None)\n",
            "  138503073451472: TensorSpec(shape=(), dtype=tf.resource, name=None)\n",
            "  138503073450320: TensorSpec(shape=(), dtype=tf.resource, name=None)\n",
            "  138503073453200: TensorSpec(shape=(), dtype=tf.resource, name=None)\n",
            "  138503073453392: TensorSpec(shape=(), dtype=tf.resource, name=None)\n",
            "  138503073451664: TensorSpec(shape=(), dtype=tf.resource, name=None)\n",
            "  138503073453776: TensorSpec(shape=(), dtype=tf.resource, name=None)\n",
            "  138503073449360: TensorSpec(shape=(), dtype=tf.resource, name=None)\n",
            "  138503073454928: TensorSpec(shape=(), dtype=tf.resource, name=None)\n",
            "  138503073455696: TensorSpec(shape=(), dtype=tf.resource, name=None)\n",
            "  138503073454544: TensorSpec(shape=(), dtype=tf.resource, name=None)\n",
            "  138503073454352: TensorSpec(shape=(), dtype=tf.resource, name=None)\n",
            "  138503073456656: TensorSpec(shape=(), dtype=tf.resource, name=None)\n",
            "  138503073456272: TensorSpec(shape=(), dtype=tf.resource, name=None)\n",
            "  138503073457616: TensorSpec(shape=(), dtype=tf.resource, name=None)\n",
            "  138503073456848: TensorSpec(shape=(), dtype=tf.resource, name=None)\n",
            "  138503073453584: TensorSpec(shape=(), dtype=tf.resource, name=None)\n",
            "  138503073458576: TensorSpec(shape=(), dtype=tf.resource, name=None)\n",
            "  138503073458192: TensorSpec(shape=(), dtype=tf.resource, name=None)\n",
            "  138503073459536: TensorSpec(shape=(), dtype=tf.resource, name=None)\n",
            "  138503073458768: TensorSpec(shape=(), dtype=tf.resource, name=None)\n",
            "  138503073448592: TensorSpec(shape=(), dtype=tf.resource, name=None)\n",
            "  138503073460496: TensorSpec(shape=(), dtype=tf.resource, name=None)\n",
            "  138503073460688: TensorSpec(shape=(), dtype=tf.resource, name=None)\n",
            "  138503073458960: TensorSpec(shape=(), dtype=tf.resource, name=None)\n",
            "  138503073461072: TensorSpec(shape=(), dtype=tf.resource, name=None)\n",
            "  138503073457040: TensorSpec(shape=(), dtype=tf.resource, name=None)\n",
            "  138503073462224: TensorSpec(shape=(), dtype=tf.resource, name=None)\n",
            "  138503073462992: TensorSpec(shape=(), dtype=tf.resource, name=None)\n",
            "  138503073461840: TensorSpec(shape=(), dtype=tf.resource, name=None)\n",
            "  138503073461648: TensorSpec(shape=(), dtype=tf.resource, name=None)\n",
            "  138503073462416: TensorSpec(shape=(), dtype=tf.resource, name=None)\n",
            "  138503079133648: TensorSpec(shape=(), dtype=tf.resource, name=None)\n",
            "  138503079133840: TensorSpec(shape=(), dtype=tf.resource, name=None)\n",
            "  138503073463568: TensorSpec(shape=(), dtype=tf.resource, name=None)\n",
            "  138503073463184: TensorSpec(shape=(), dtype=tf.resource, name=None)\n",
            "  138503079135184: TensorSpec(shape=(), dtype=tf.resource, name=None)\n",
            "  138503079134800: TensorSpec(shape=(), dtype=tf.resource, name=None)\n",
            "  138503079136144: TensorSpec(shape=(), dtype=tf.resource, name=None)\n",
            "  138503079135376: TensorSpec(shape=(), dtype=tf.resource, name=None)\n",
            "  138503079134416: TensorSpec(shape=(), dtype=tf.resource, name=None)\n",
            "  138503079137104: TensorSpec(shape=(), dtype=tf.resource, name=None)\n",
            "  138503079137296: TensorSpec(shape=(), dtype=tf.resource, name=None)\n",
            "  138503079135568: TensorSpec(shape=(), dtype=tf.resource, name=None)\n",
            "  138503079137680: TensorSpec(shape=(), dtype=tf.resource, name=None)\n",
            "  138503079133264: TensorSpec(shape=(), dtype=tf.resource, name=None)\n",
            "  138503079138832: TensorSpec(shape=(), dtype=tf.resource, name=None)\n",
            "  138503079139600: TensorSpec(shape=(), dtype=tf.resource, name=None)\n",
            "  138503079138448: TensorSpec(shape=(), dtype=tf.resource, name=None)\n",
            "  138503079138256: TensorSpec(shape=(), dtype=tf.resource, name=None)\n",
            "  138503079139024: TensorSpec(shape=(), dtype=tf.resource, name=None)\n",
            "  138503079140944: TensorSpec(shape=(), dtype=tf.resource, name=None)\n",
            "  138503079141904: TensorSpec(shape=(), dtype=tf.resource, name=None)\n",
            "  138503079141136: TensorSpec(shape=(), dtype=tf.resource, name=None)\n",
            "  138503079139792: TensorSpec(shape=(), dtype=tf.resource, name=None)\n",
            "  138503079142864: TensorSpec(shape=(), dtype=tf.resource, name=None)\n",
            "  138503079142480: TensorSpec(shape=(), dtype=tf.resource, name=None)\n",
            "  138503079143824: TensorSpec(shape=(), dtype=tf.resource, name=None)\n",
            "  138503079143056: TensorSpec(shape=(), dtype=tf.resource, name=None)\n",
            "  138503079140752: TensorSpec(shape=(), dtype=tf.resource, name=None)\n",
            "  138503079144784: TensorSpec(shape=(), dtype=tf.resource, name=None)\n",
            "  138503079144976: TensorSpec(shape=(), dtype=tf.resource, name=None)\n",
            "  138503079143248: TensorSpec(shape=(), dtype=tf.resource, name=None)\n",
            "  138503079145360: TensorSpec(shape=(), dtype=tf.resource, name=None)\n",
            "  138503079141328: TensorSpec(shape=(), dtype=tf.resource, name=None)\n",
            "  138503079146512: TensorSpec(shape=(), dtype=tf.resource, name=None)\n",
            "  138503079147280: TensorSpec(shape=(), dtype=tf.resource, name=None)\n",
            "  138503079146128: TensorSpec(shape=(), dtype=tf.resource, name=None)\n",
            "  138503079145936: TensorSpec(shape=(), dtype=tf.resource, name=None)\n",
            "  138503079146704: TensorSpec(shape=(), dtype=tf.resource, name=None)\n",
            "  138503079149200: TensorSpec(shape=(), dtype=tf.resource, name=None)\n",
            "  138503079149008: TensorSpec(shape=(), dtype=tf.resource, name=None)\n",
            "  138503079148624: TensorSpec(shape=(), dtype=tf.resource, name=None)\n",
            "  138503079147472: TensorSpec(shape=(), dtype=tf.resource, name=None)\n",
            "  138503079149392: TensorSpec(shape=(), dtype=tf.resource, name=None)\n",
            "  138503079707856: TensorSpec(shape=(), dtype=tf.resource, name=None)\n",
            "  138503079708624: TensorSpec(shape=(), dtype=tf.resource, name=None)\n",
            "  138503079708048: TensorSpec(shape=(), dtype=tf.resource, name=None)\n",
            "  138503079706704: TensorSpec(shape=(), dtype=tf.resource, name=None)\n",
            "  138503079709584: TensorSpec(shape=(), dtype=tf.resource, name=None)\n",
            "  138503079709776: TensorSpec(shape=(), dtype=tf.resource, name=None)\n",
            "  138503079708432: TensorSpec(shape=(), dtype=tf.resource, name=None)\n",
            "  138503079710160: TensorSpec(shape=(), dtype=tf.resource, name=None)\n",
            "  138503079707280: TensorSpec(shape=(), dtype=tf.resource, name=None)\n",
            "  138503079711312: TensorSpec(shape=(), dtype=tf.resource, name=None)\n",
            "  138503079712080: TensorSpec(shape=(), dtype=tf.resource, name=None)\n",
            "  138503079710928: TensorSpec(shape=(), dtype=tf.resource, name=None)\n",
            "  138503079710736: TensorSpec(shape=(), dtype=tf.resource, name=None)\n",
            "  138503079711504: TensorSpec(shape=(), dtype=tf.resource, name=None)\n",
            "  138503079713424: TensorSpec(shape=(), dtype=tf.resource, name=None)\n",
            "  138503079714384: TensorSpec(shape=(), dtype=tf.resource, name=None)\n",
            "  138503079713616: TensorSpec(shape=(), dtype=tf.resource, name=None)\n",
            "  138503079712272: TensorSpec(shape=(), dtype=tf.resource, name=None)\n",
            "  138503079715344: TensorSpec(shape=(), dtype=tf.resource, name=None)\n",
            "  138503079714960: TensorSpec(shape=(), dtype=tf.resource, name=None)\n",
            "  138503079716304: TensorSpec(shape=(), dtype=tf.resource, name=None)\n",
            "  138503079715536: TensorSpec(shape=(), dtype=tf.resource, name=None)\n",
            "  138503079713232: TensorSpec(shape=(), dtype=tf.resource, name=None)\n",
            "  138503079717264: TensorSpec(shape=(), dtype=tf.resource, name=None)\n",
            "  138503079717456: TensorSpec(shape=(), dtype=tf.resource, name=None)\n",
            "  138503079715728: TensorSpec(shape=(), dtype=tf.resource, name=None)\n",
            "  138503079717840: TensorSpec(shape=(), dtype=tf.resource, name=None)\n",
            "  138503079713808: TensorSpec(shape=(), dtype=tf.resource, name=None)\n",
            "  138503079718992: TensorSpec(shape=(), dtype=tf.resource, name=None)\n",
            "  138503079719760: TensorSpec(shape=(), dtype=tf.resource, name=None)\n",
            "  138503079718608: TensorSpec(shape=(), dtype=tf.resource, name=None)\n",
            "  138503079718416: TensorSpec(shape=(), dtype=tf.resource, name=None)\n",
            "  138503079720720: TensorSpec(shape=(), dtype=tf.resource, name=None)\n",
            "  138503079720336: TensorSpec(shape=(), dtype=tf.resource, name=None)\n",
            "  138503079721680: TensorSpec(shape=(), dtype=tf.resource, name=None)\n",
            "  138503079720912: TensorSpec(shape=(), dtype=tf.resource, name=None)\n",
            "  138503079717648: TensorSpec(shape=(), dtype=tf.resource, name=None)\n",
            "  138503079722640: TensorSpec(shape=(), dtype=tf.resource, name=None)\n",
            "  138503079722256: TensorSpec(shape=(), dtype=tf.resource, name=None)\n",
            "  138503070908496: TensorSpec(shape=(), dtype=tf.resource, name=None)\n",
            "  138503079721104: TensorSpec(shape=(), dtype=tf.resource, name=None)\n",
            "  138503079719184: TensorSpec(shape=(), dtype=tf.resource, name=None)\n",
            "  138503070910032: TensorSpec(shape=(), dtype=tf.resource, name=None)\n",
            "  138503070910224: TensorSpec(shape=(), dtype=tf.resource, name=None)\n",
            "  138503070909648: TensorSpec(shape=(), dtype=tf.resource, name=None)\n",
            "  138503070910608: TensorSpec(shape=(), dtype=tf.resource, name=None)\n",
            "  138503070909456: TensorSpec(shape=(), dtype=tf.resource, name=None)\n",
            "  138503070911760: TensorSpec(shape=(), dtype=tf.resource, name=None)\n",
            "  138503070912528: TensorSpec(shape=(), dtype=tf.resource, name=None)\n",
            "  138503070911376: TensorSpec(shape=(), dtype=tf.resource, name=None)\n",
            "  138503070911184: TensorSpec(shape=(), dtype=tf.resource, name=None)\n",
            "  138503070911952: TensorSpec(shape=(), dtype=tf.resource, name=None)\n",
            "  138503070913872: TensorSpec(shape=(), dtype=tf.resource, name=None)\n",
            "  138503070914832: TensorSpec(shape=(), dtype=tf.resource, name=None)\n",
            "  138503070914064: TensorSpec(shape=(), dtype=tf.resource, name=None)\n",
            "  138503070912720: TensorSpec(shape=(), dtype=tf.resource, name=None)\n",
            "  138503070915792: TensorSpec(shape=(), dtype=tf.resource, name=None)\n",
            "  138503070915408: TensorSpec(shape=(), dtype=tf.resource, name=None)\n",
            "  138503070916752: TensorSpec(shape=(), dtype=tf.resource, name=None)\n",
            "  138503070915984: TensorSpec(shape=(), dtype=tf.resource, name=None)\n",
            "  138503070913680: TensorSpec(shape=(), dtype=tf.resource, name=None)\n",
            "  138503070917712: TensorSpec(shape=(), dtype=tf.resource, name=None)\n",
            "  138503070917904: TensorSpec(shape=(), dtype=tf.resource, name=None)\n",
            "  138503070916176: TensorSpec(shape=(), dtype=tf.resource, name=None)\n",
            "  138503070918288: TensorSpec(shape=(), dtype=tf.resource, name=None)\n",
            "  138503070914256: TensorSpec(shape=(), dtype=tf.resource, name=None)\n",
            "  138503070919440: TensorSpec(shape=(), dtype=tf.resource, name=None)\n",
            "  138503070920208: TensorSpec(shape=(), dtype=tf.resource, name=None)\n",
            "  138503070919056: TensorSpec(shape=(), dtype=tf.resource, name=None)\n",
            "  138503070918864: TensorSpec(shape=(), dtype=tf.resource, name=None)\n",
            "  138503070919632: TensorSpec(shape=(), dtype=tf.resource, name=None)\n",
            "  138503070921552: TensorSpec(shape=(), dtype=tf.resource, name=None)\n",
            "  138503070922512: TensorSpec(shape=(), dtype=tf.resource, name=None)\n",
            "  138503070921744: TensorSpec(shape=(), dtype=tf.resource, name=None)\n",
            "  138503070920400: TensorSpec(shape=(), dtype=tf.resource, name=None)\n",
            "  138503070923472: TensorSpec(shape=(), dtype=tf.resource, name=None)\n",
            "  138503070923088: TensorSpec(shape=(), dtype=tf.resource, name=None)\n",
            "  138503070924624: TensorSpec(shape=(), dtype=tf.resource, name=None)\n",
            "  138503070923664: TensorSpec(shape=(), dtype=tf.resource, name=None)\n",
            "  138503070921360: TensorSpec(shape=(), dtype=tf.resource, name=None)\n",
            "  138503070923856: TensorSpec(shape=(), dtype=tf.resource, name=None)\n",
            "  138503070920784: TensorSpec(shape=(), dtype=tf.resource, name=None)\n",
            "  138503071269136: TensorSpec(shape=(), dtype=tf.resource, name=None)\n",
            "  138503071270096: TensorSpec(shape=(), dtype=tf.resource, name=None)\n",
            "  138503071269328: TensorSpec(shape=(), dtype=tf.resource, name=None)\n",
            "  138503071271248: TensorSpec(shape=(), dtype=tf.resource, name=None)\n",
            "  138503071272016: TensorSpec(shape=(), dtype=tf.resource, name=None)\n",
            "  138503071270864: TensorSpec(shape=(), dtype=tf.resource, name=None)\n",
            "  138503071270672: TensorSpec(shape=(), dtype=tf.resource, name=None)\n",
            "  138503071271440: TensorSpec(shape=(), dtype=tf.resource, name=None)\n",
            "  138503071273360: TensorSpec(shape=(), dtype=tf.resource, name=None)\n",
            "  138503071274320: TensorSpec(shape=(), dtype=tf.resource, name=None)\n",
            "  138503071273552: TensorSpec(shape=(), dtype=tf.resource, name=None)\n",
            "  138503071272208: TensorSpec(shape=(), dtype=tf.resource, name=None)\n",
            "  138503071275280: TensorSpec(shape=(), dtype=tf.resource, name=None)\n",
            "  138503071274896: TensorSpec(shape=(), dtype=tf.resource, name=None)\n",
            "  138503071276240: TensorSpec(shape=(), dtype=tf.resource, name=None)\n",
            "  138503071275472: TensorSpec(shape=(), dtype=tf.resource, name=None)\n",
            "  138503071273168: TensorSpec(shape=(), dtype=tf.resource, name=None)\n",
            "  138503071277200: TensorSpec(shape=(), dtype=tf.resource, name=None)\n",
            "  138503071277392: TensorSpec(shape=(), dtype=tf.resource, name=None)\n",
            "  138503071275664: TensorSpec(shape=(), dtype=tf.resource, name=None)\n",
            "  138503071277776: TensorSpec(shape=(), dtype=tf.resource, name=None)\n",
            "  138503071273744: TensorSpec(shape=(), dtype=tf.resource, name=None)\n",
            "  138503071278928: TensorSpec(shape=(), dtype=tf.resource, name=None)\n",
            "  138503071279696: TensorSpec(shape=(), dtype=tf.resource, name=None)\n",
            "  138503071278544: TensorSpec(shape=(), dtype=tf.resource, name=None)\n",
            "  138503071278352: TensorSpec(shape=(), dtype=tf.resource, name=None)\n",
            "  138503071279120: TensorSpec(shape=(), dtype=tf.resource, name=None)\n",
            "  138503071281040: TensorSpec(shape=(), dtype=tf.resource, name=None)\n",
            "  138503071282000: TensorSpec(shape=(), dtype=tf.resource, name=None)\n",
            "  138503071281232: TensorSpec(shape=(), dtype=tf.resource, name=None)\n",
            "  138503071279888: TensorSpec(shape=(), dtype=tf.resource, name=None)\n",
            "  138503071282960: TensorSpec(shape=(), dtype=tf.resource, name=None)\n",
            "  138503071282576: TensorSpec(shape=(), dtype=tf.resource, name=None)\n",
            "  138503071283920: TensorSpec(shape=(), dtype=tf.resource, name=None)\n",
            "  138503071283152: TensorSpec(shape=(), dtype=tf.resource, name=None)\n",
            "  138503071280848: TensorSpec(shape=(), dtype=tf.resource, name=None)\n",
            "  138503071284880: TensorSpec(shape=(), dtype=tf.resource, name=None)\n",
            "  138503071283344: TensorSpec(shape=(), dtype=tf.resource, name=None)\n",
            "  138503071285072: TensorSpec(shape=(), dtype=tf.resource, name=None)\n",
            "  138503071280272: TensorSpec(shape=(), dtype=tf.resource, name=None)\n",
            "  138503079887504: TensorSpec(shape=(), dtype=tf.resource, name=None)\n",
            "  138503079888272: TensorSpec(shape=(), dtype=tf.resource, name=None)\n",
            "  138503079889040: TensorSpec(shape=(), dtype=tf.resource, name=None)\n",
            "  138503079887888: TensorSpec(shape=(), dtype=tf.resource, name=None)\n",
            "  138503079886928: TensorSpec(shape=(), dtype=tf.resource, name=None)\n",
            "  138503079888464: TensorSpec(shape=(), dtype=tf.resource, name=None)\n",
            "  138503079890384: TensorSpec(shape=(), dtype=tf.resource, name=None)\n",
            "  138503079891344: TensorSpec(shape=(), dtype=tf.resource, name=None)\n",
            "  138503079890576: TensorSpec(shape=(), dtype=tf.resource, name=None)\n",
            "  138503079889232: TensorSpec(shape=(), dtype=tf.resource, name=None)\n",
            "  138503079892304: TensorSpec(shape=(), dtype=tf.resource, name=None)\n",
            "  138503079891920: TensorSpec(shape=(), dtype=tf.resource, name=None)\n",
            "  138503079893264: TensorSpec(shape=(), dtype=tf.resource, name=None)\n",
            "  138503079892496: TensorSpec(shape=(), dtype=tf.resource, name=None)\n",
            "  138503079890192: TensorSpec(shape=(), dtype=tf.resource, name=None)\n",
            "  138503079894224: TensorSpec(shape=(), dtype=tf.resource, name=None)\n",
            "  138503079894416: TensorSpec(shape=(), dtype=tf.resource, name=None)\n",
            "  138503079892688: TensorSpec(shape=(), dtype=tf.resource, name=None)\n",
            "  138503079894800: TensorSpec(shape=(), dtype=tf.resource, name=None)\n",
            "  138503079890768: TensorSpec(shape=(), dtype=tf.resource, name=None)\n",
            "  138503079895952: TensorSpec(shape=(), dtype=tf.resource, name=None)\n",
            "  138503079896720: TensorSpec(shape=(), dtype=tf.resource, name=None)\n",
            "  138503079895568: TensorSpec(shape=(), dtype=tf.resource, name=None)\n",
            "  138503079895376: TensorSpec(shape=(), dtype=tf.resource, name=None)\n",
            "  138503079896144: TensorSpec(shape=(), dtype=tf.resource, name=None)\n",
            "  138503079898064: TensorSpec(shape=(), dtype=tf.resource, name=None)\n",
            "  138503079899024: TensorSpec(shape=(), dtype=tf.resource, name=None)\n",
            "  138503079898256: TensorSpec(shape=(), dtype=tf.resource, name=None)\n",
            "  138503079896912: TensorSpec(shape=(), dtype=tf.resource, name=None)\n",
            "  138503079899984: TensorSpec(shape=(), dtype=tf.resource, name=None)\n",
            "  138503079899600: TensorSpec(shape=(), dtype=tf.resource, name=None)\n",
            "  138503079900944: TensorSpec(shape=(), dtype=tf.resource, name=None)\n",
            "  138503079900176: TensorSpec(shape=(), dtype=tf.resource, name=None)\n",
            "  138503079897872: TensorSpec(shape=(), dtype=tf.resource, name=None)\n",
            "  138503079901904: TensorSpec(shape=(), dtype=tf.resource, name=None)\n",
            "  138503079902096: TensorSpec(shape=(), dtype=tf.resource, name=None)\n",
            "  138503079900368: TensorSpec(shape=(), dtype=tf.resource, name=None)\n",
            "  138503079901520: TensorSpec(shape=(), dtype=tf.resource, name=None)\n",
            "  138503079902480: TensorSpec(shape=(), dtype=tf.resource, name=None)\n",
            "  138503080804624: TensorSpec(shape=(), dtype=tf.resource, name=None)\n",
            "  138503080805392: TensorSpec(shape=(), dtype=tf.resource, name=None)\n",
            "  138503079897296: TensorSpec(shape=(), dtype=tf.resource, name=None)\n",
            "  138503079902864: TensorSpec(shape=(), dtype=tf.resource, name=None)\n",
            "  138503080804816: TensorSpec(shape=(), dtype=tf.resource, name=None)\n",
            "  138503080806928: TensorSpec(shape=(), dtype=tf.resource, name=None)\n",
            "  138503080807888: TensorSpec(shape=(), dtype=tf.resource, name=None)\n",
            "  138503080807120: TensorSpec(shape=(), dtype=tf.resource, name=None)\n",
            "  138503080805776: TensorSpec(shape=(), dtype=tf.resource, name=None)\n",
            "  138503080809040: TensorSpec(shape=(), dtype=tf.resource, name=None)\n",
            "  138503080810384: TensorSpec(shape=(), dtype=tf.resource, name=None)\n"
          ]
        }
      ]
    },
    {
      "cell_type": "code",
      "source": [
        "interpreter = tf.lite.Interpreter(model_path='/content/garbage_classifier_model.tflite')\n",
        "interpreter.allocate_tensors()\n",
        "\n",
        "input_details = interpreter.get_input_details()\n",
        "output_details = interpreter.get_output_details()\n",
        "\n",
        "print(\"Input details:\", input_details)\n",
        "print(\"Output details:\", output_details)\n"
      ],
      "metadata": {
        "colab": {
          "base_uri": "https://localhost:8080/"
        },
        "id": "nioSv5nfh4Vv",
        "outputId": "8893e760-f8eb-463c-9746-355538d22870"
      },
      "execution_count": 75,
      "outputs": [
        {
          "output_type": "stream",
          "name": "stdout",
          "text": [
            "Input details: [{'name': 'serving_default_keras_tensor_1368:0', 'index': 0, 'shape': array([  1, 224, 224,   3], dtype=int32), 'shape_signature': array([ -1, 224, 224,   3], dtype=int32), 'dtype': <class 'numpy.float32'>, 'quantization': (0.0, 0), 'quantization_parameters': {'scales': array([], dtype=float32), 'zero_points': array([], dtype=int32), 'quantized_dimension': 0}, 'sparsity_parameters': {}}]\n",
            "Output details: [{'name': 'StatefulPartitionedCall_1:0', 'index': 531, 'shape': array([1, 6], dtype=int32), 'shape_signature': array([-1,  6], dtype=int32), 'dtype': <class 'numpy.float32'>, 'quantization': (0.0, 0), 'quantization_parameters': {'scales': array([], dtype=float32), 'zero_points': array([], dtype=int32), 'quantized_dimension': 0}, 'sparsity_parameters': {}}]\n"
          ]
        }
      ]
    },
    {
      "cell_type": "code",
      "source": [],
      "metadata": {
        "colab": {
          "base_uri": "https://localhost:8080/"
        },
        "id": "H9vNtdmDh6lP",
        "outputId": "6482e136-14db-4eb7-8c4a-d1c42a16a2b6"
      },
      "execution_count": 76,
      "outputs": [
        {
          "output_type": "stream",
          "name": "stdout",
          "text": [
            "Predicted output: [[0.11409366 0.1894397  0.17017008 0.07615648 0.25791925 0.19222079]]\n"
          ]
        }
      ]
    },
    {
      "cell_type": "code",
      "source": [
        "test_data = tf.keras.preprocessing.image_dataset_from_directory(\n",
        "    dataset_dir,\n",
        "    validation_split=0.2,\n",
        "    subset=\"validation\",\n",
        "    seed=123,\n",
        "    image_size=(224, 224),\n",
        "    batch_size=32\n",
        ")\n",
        "\n",
        "loss, acc = model.evaluate(test_data)\n",
        "print(f\"Test Accuracy: {acc * 100:.2f}%\")\n"
      ],
      "metadata": {
        "colab": {
          "base_uri": "https://localhost:8080/"
        },
        "id": "lMhrZGRSh-JW",
        "outputId": "8b5277e9-d009-4178-efbb-5efb985a6540"
      },
      "execution_count": 77,
      "outputs": [
        {
          "output_type": "stream",
          "name": "stdout",
          "text": [
            "Found 64 files belonging to 6 classes.\n",
            "Using 12 files for validation.\n",
            "\u001b[1m1/1\u001b[0m \u001b[32m━━━━━━━━━━━━━━━━━━━━\u001b[0m\u001b[37m\u001b[0m \u001b[1m1s\u001b[0m 1s/step - accuracy: 0.2500 - loss: 1.9286\n",
            "Test Accuracy: 25.00%\n"
          ]
        }
      ]
    },
    {
      "cell_type": "code",
      "source": [
        "test_dir = '/content/drive/MyDrive/TrashType_Image_Dataset'\n",
        "\n",
        "test_ds = tf.keras.utils.image_dataset_from_directory(\n",
        "    test_dir,\n",
        "    image_size=(224, 224),  # Ensure this matches your model's input\n",
        "    batch_size=32,\n",
        "    shuffle=False\n",
        ")\n"
      ],
      "metadata": {
        "colab": {
          "base_uri": "https://localhost:8080/"
        },
        "id": "yGy1_UOxlQ3n",
        "outputId": "026b4aae-b22f-4145-fcbd-8ce45c89424b"
      },
      "execution_count": 83,
      "outputs": [
        {
          "output_type": "stream",
          "name": "stdout",
          "text": [
            "Found 64 files belonging to 6 classes.\n"
          ]
        }
      ]
    },
    {
      "cell_type": "code",
      "source": [
        "!pip install split-folders\n"
      ],
      "metadata": {
        "colab": {
          "base_uri": "https://localhost:8080/"
        },
        "id": "o4WybJc3mhT2",
        "outputId": "2b13c8fe-524e-4777-a5dc-15a2df7e07ad"
      },
      "execution_count": 89,
      "outputs": [
        {
          "output_type": "stream",
          "name": "stdout",
          "text": [
            "Collecting split-folders\n",
            "  Downloading split_folders-0.5.1-py3-none-any.whl.metadata (6.2 kB)\n",
            "Downloading split_folders-0.5.1-py3-none-any.whl (8.4 kB)\n",
            "Installing collected packages: split-folders\n",
            "Successfully installed split-folders-0.5.1\n"
          ]
        }
      ]
    },
    {
      "cell_type": "code",
      "source": [
        "import splitfolders\n",
        "\n",
        "# Replace with your actual path\n",
        "input_folder = '/content/drive/MyDrive/TrashType_Image_Dataset'\n",
        "output_folder = '/content/drive/MyDrive/TrashType_Split'\n",
        "\n",
        "# Split: 70% train, 15% val, 15% test\n",
        "splitfolders.ratio(input_folder, output=output_folder, seed=42, ratio=(.7, .15, .15))\n"
      ],
      "metadata": {
        "colab": {
          "base_uri": "https://localhost:8080/"
        },
        "id": "DpnyQ590nT4i",
        "outputId": "5b9a02c4-bf79-45a2-c680-2b7fce1aa37a"
      },
      "execution_count": 90,
      "outputs": [
        {
          "output_type": "stream",
          "name": "stderr",
          "text": [
            "Copying files: 73 files [00:06, 11.92 files/s]\n"
          ]
        }
      ]
    },
    {
      "cell_type": "code",
      "source": [
        "import tensorflow as tf\n",
        "import numpy as np\n",
        "import matplotlib.pyplot as plt\n",
        "import seaborn as sns\n",
        "import gradio as gr\n",
        "from sklearn.metrics import confusion_matrix, classification_report\n",
        "from sklearn.utils.class_weight import compute_class_weight\n",
        "from tensorflow.keras.applications.efficientnet_v2 import EfficientNetV2B2, preprocess_input\n",
        "\n",
        "# Define dataset paths\n",
        "dataset_path = '/content/drive/MyDrive/TrashType_Split'\n",
        "\n",
        "# Load datasets\n",
        "train_ds = tf.keras.utils.image_dataset_from_directory(\n",
        "    dataset_path + '/train',\n",
        "    image_size=(124, 124),\n",
        "    batch_size=32\n",
        ")\n",
        "\n",
        "val_ds = tf.keras.utils.image_dataset_from_directory(\n",
        "    dataset_path + '/val',\n",
        "    image_size=(124, 124),\n",
        "    batch_size=32\n",
        ")\n",
        "\n",
        "test_ds = tf.keras.utils.image_dataset_from_directory(\n",
        "    dataset_path + '/test',\n",
        "    image_size=(124, 124),\n",
        "    batch_size=32,\n",
        "    shuffle=False\n",
        ")\n",
        "\n",
        "# Extract class names\n",
        "class_names = train_ds.class_names\n",
        "print(\"Class Names:\", class_names)\n",
        "\n",
        "# Class weights for imbalance handling\n",
        "all_labels = np.concatenate([labels.numpy() for _, labels in train_ds], axis=0)\n",
        "class_weights_array = compute_class_weight(\n",
        "    class_weight='balanced',\n",
        "    classes=np.arange(len(class_names)),\n",
        "    y=all_labels\n",
        ")\n",
        "class_weights = {i: w for i, w in enumerate(class_weights_array)}\n",
        "print(\"Class Weights:\", class_weights)\n",
        "\n",
        "# Data Prefetching for performance\n",
        "AUTOTUNE = tf.data.AUTOTUNE\n",
        "train_ds = train_ds.prefetch(buffer_size=AUTOTUNE)\n",
        "val_ds = val_ds.prefetch(buffer_size=AUTOTUNE)\n",
        "test_ds = test_ds.prefetch(buffer_size=AUTOTUNE)\n",
        "\n",
        "# Build model using Transfer Learning\n",
        "base_model = EfficientNetV2B2(include_top=False, input_shape=(124, 124, 3), weights='imagenet')\n",
        "base_model.trainable = False\n",
        "\n",
        "model = tf.keras.Sequential([\n",
        "    tf.keras.layers.Rescaling(1./255),\n",
        "    base_model,\n",
        "    tf.keras.layers.GlobalAveragePooling2D(),\n",
        "    tf.keras.layers.Dense(128, activation='relu'),\n",
        "    tf.keras.layers.Dense(len(class_names), activation='softmax')\n",
        "])\n",
        "\n",
        "model.compile(optimizer='adam',\n",
        "              loss='sparse_categorical_crossentropy',\n",
        "              metrics=['accuracy'])\n",
        "\n",
        "model.summary()\n",
        "\n",
        "# Early stopping callback\n",
        "early = tf.keras.callbacks.EarlyStopping(\n",
        "    monitor='val_loss',\n",
        "    patience=3,\n",
        "    restore_best_weights=True\n",
        ")\n",
        "\n",
        "# Train the model\n",
        "history = model.fit(\n",
        "    train_ds,\n",
        "    validation_data=val_ds,\n",
        "    epochs=10,\n",
        "    class_weight=class_weights,\n",
        "    callbacks=[early]\n",
        ")\n",
        "\n",
        "# Plot accuracy and loss curves\n",
        "acc = history.history['accuracy']\n",
        "val_acc = history.history['val_accuracy']\n",
        "loss = history.history['loss']\n",
        "val_loss = history.history['val_loss']\n",
        "epochs_range = range(len(acc))\n",
        "\n",
        "plt.figure(figsize=(10,8))\n",
        "\n",
        "plt.subplot(1,2,1)\n",
        "plt.plot(epochs_range, acc, label='Training Accuracy')\n",
        "plt.plot(epochs_range, val_acc, label='Validation Accuracy')\n",
        "plt.legend(loc='lower right')\n",
        "plt.title('Training vs Validation Accuracy')\n",
        "\n",
        "plt.subplot(1,2,2)\n",
        "plt.plot(epochs_range, loss, label='Training Loss')\n",
        "plt.plot(epochs_range, val_loss, label='Validation Loss')\n",
        "plt.legend(loc='upper right')\n",
        "plt.title('Training vs Validation Loss')\n",
        "\n",
        "plt.show()\n",
        "\n",
        "# Evaluate on test set\n",
        "loss, accuracy = model.evaluate(test_ds)\n",
        "print(f'Test accuracy: {accuracy:.4f}, Test loss: {loss:.4f}')\n",
        "\n",
        "# Confusion Matrix and Classification Report\n",
        "y_true = np.concatenate([labels.numpy() for _, labels in test_ds], axis=0)\n",
        "y_pred_probs = model.predict(test_ds)\n",
        "y_pred = np.argmax(y_pred_probs, axis=1)\n",
        "\n",
        "cm = confusion_matrix(y_true, y_pred)\n",
        "print(cm)\n",
        "print(classification_report(y_true, y_pred, target_names=class_names))\n",
        "\n",
        "plt.figure(figsize=(10,8))\n",
        "sns.heatmap(cm, annot=True, fmt='d', xticklabels=class_names, yticklabels=class_names, cmap='Blues')\n",
        "plt.xlabel('Predicted')\n",
        "plt.ylabel('True')\n",
        "plt.title('Confusion Matrix')\n",
        "plt.show()\n",
        "\n",
        "# Save model\n",
        "model.save('/content/EfficientNetV2B2_Trash.keras')\n",
        "\n",
        "# Gradio Interface for real-time image prediction\n",
        "model = tf.keras.models.load_model('/content/EfficientNetV2B2_Trash.keras')\n",
        "\n",
        "def classify_image(img):\n",
        "    img = img.resize((124, 124))\n",
        "    img_array = np.array(img, dtype=np.float32)\n",
        "    img_array = preprocess_input(img_array)\n",
        "    img_array = np.expand_dims(img_array, axis=0)\n",
        "\n",
        "    prediction = model.predict(img_array)\n",
        "    predicted_class_index = np.argmax(prediction)\n",
        "    predicted_class_name = class_names[predicted_class_index]\n",
        "    confidence = prediction[0][predicted_class_index]\n",
        "\n",
        "    return f\"Predicted: {predicted_class_name} (Confidence: {confidence:.2f})\"\n",
        "\n",
        "iface = gr.Interface(fn=classify_image, inputs=gr.Image(type=\"pil\"), outputs=\"text\")\n",
        "iface.launch(debug=True)\n"
      ],
      "metadata": {
        "colab": {
          "base_uri": "https://localhost:8080/",
          "height": 1000
        },
        "id": "CrrdlUQFnn-9",
        "outputId": "084b475c-23f8-4d67-df5f-120d427f83f0"
      },
      "execution_count": null,
      "outputs": [
        {
          "output_type": "stream",
          "name": "stdout",
          "text": [
            "Found 44 files belonging to 6 classes.\n",
            "Found 6 files belonging to 6 classes.\n",
            "Found 14 files belonging to 6 classes.\n",
            "Class Names: ['cardboard', 'glass', 'metal', 'paper', 'plastic', 'trash']\n",
            "Class Weights: {0: np.float64(1.2222222222222223), 1: np.float64(1.0476190476190477), 2: np.float64(1.0476190476190477), 3: np.float64(1.4666666666666666), 4: np.float64(0.6111111111111112), 5: np.float64(1.0476190476190477)}\n",
            "Downloading data from https://storage.googleapis.com/tensorflow/keras-applications/efficientnet_v2/efficientnetv2-b2_notop.h5\n",
            "\u001b[1m35839040/35839040\u001b[0m \u001b[32m━━━━━━━━━━━━━━━━━━━━\u001b[0m\u001b[37m\u001b[0m \u001b[1m1s\u001b[0m 0us/step\n"
          ]
        },
        {
          "output_type": "display_data",
          "data": {
            "text/plain": [
              "\u001b[1mModel: \"sequential_3\"\u001b[0m\n"
            ],
            "text/html": [
              "<pre style=\"white-space:pre;overflow-x:auto;line-height:normal;font-family:Menlo,'DejaVu Sans Mono',consolas,'Courier New',monospace\"><span style=\"font-weight: bold\">Model: \"sequential_3\"</span>\n",
              "</pre>\n"
            ]
          },
          "metadata": {}
        },
        {
          "output_type": "display_data",
          "data": {
            "text/plain": [
              "┏━━━━━━━━━━━━━━━━━━━━━━━━━━━━━━━━━┳━━━━━━━━━━━━━━━━━━━━━━━━┳━━━━━━━━━━━━━━━┓\n",
              "┃\u001b[1m \u001b[0m\u001b[1mLayer (type)                   \u001b[0m\u001b[1m \u001b[0m┃\u001b[1m \u001b[0m\u001b[1mOutput Shape          \u001b[0m\u001b[1m \u001b[0m┃\u001b[1m \u001b[0m\u001b[1m      Param #\u001b[0m\u001b[1m \u001b[0m┃\n",
              "┡━━━━━━━━━━━━━━━━━━━━━━━━━━━━━━━━━╇━━━━━━━━━━━━━━━━━━━━━━━━╇━━━━━━━━━━━━━━━┩\n",
              "│ rescaling_8 (\u001b[38;5;33mRescaling\u001b[0m)         │ ?                      │   \u001b[38;5;34m0\u001b[0m (unbuilt) │\n",
              "├─────────────────────────────────┼────────────────────────┼───────────────┤\n",
              "│ efficientnetv2-b2 (\u001b[38;5;33mFunctional\u001b[0m)  │ (\u001b[38;5;45mNone\u001b[0m, \u001b[38;5;34m4\u001b[0m, \u001b[38;5;34m4\u001b[0m, \u001b[38;5;34m1408\u001b[0m)     │     \u001b[38;5;34m8,769,374\u001b[0m │\n",
              "├─────────────────────────────────┼────────────────────────┼───────────────┤\n",
              "│ global_average_pooling2d_3      │ ?                      │             \u001b[38;5;34m0\u001b[0m │\n",
              "│ (\u001b[38;5;33mGlobalAveragePooling2D\u001b[0m)        │                        │               │\n",
              "├─────────────────────────────────┼────────────────────────┼───────────────┤\n",
              "│ dense_4 (\u001b[38;5;33mDense\u001b[0m)                 │ ?                      │   \u001b[38;5;34m0\u001b[0m (unbuilt) │\n",
              "├─────────────────────────────────┼────────────────────────┼───────────────┤\n",
              "│ dense_5 (\u001b[38;5;33mDense\u001b[0m)                 │ ?                      │   \u001b[38;5;34m0\u001b[0m (unbuilt) │\n",
              "└─────────────────────────────────┴────────────────────────┴───────────────┘\n"
            ],
            "text/html": [
              "<pre style=\"white-space:pre;overflow-x:auto;line-height:normal;font-family:Menlo,'DejaVu Sans Mono',consolas,'Courier New',monospace\">┏━━━━━━━━━━━━━━━━━━━━━━━━━━━━━━━━━┳━━━━━━━━━━━━━━━━━━━━━━━━┳━━━━━━━━━━━━━━━┓\n",
              "┃<span style=\"font-weight: bold\"> Layer (type)                    </span>┃<span style=\"font-weight: bold\"> Output Shape           </span>┃<span style=\"font-weight: bold\">       Param # </span>┃\n",
              "┡━━━━━━━━━━━━━━━━━━━━━━━━━━━━━━━━━╇━━━━━━━━━━━━━━━━━━━━━━━━╇━━━━━━━━━━━━━━━┩\n",
              "│ rescaling_8 (<span style=\"color: #0087ff; text-decoration-color: #0087ff\">Rescaling</span>)         │ ?                      │   <span style=\"color: #00af00; text-decoration-color: #00af00\">0</span> (unbuilt) │\n",
              "├─────────────────────────────────┼────────────────────────┼───────────────┤\n",
              "│ efficientnetv2-b2 (<span style=\"color: #0087ff; text-decoration-color: #0087ff\">Functional</span>)  │ (<span style=\"color: #00d7ff; text-decoration-color: #00d7ff\">None</span>, <span style=\"color: #00af00; text-decoration-color: #00af00\">4</span>, <span style=\"color: #00af00; text-decoration-color: #00af00\">4</span>, <span style=\"color: #00af00; text-decoration-color: #00af00\">1408</span>)     │     <span style=\"color: #00af00; text-decoration-color: #00af00\">8,769,374</span> │\n",
              "├─────────────────────────────────┼────────────────────────┼───────────────┤\n",
              "│ global_average_pooling2d_3      │ ?                      │             <span style=\"color: #00af00; text-decoration-color: #00af00\">0</span> │\n",
              "│ (<span style=\"color: #0087ff; text-decoration-color: #0087ff\">GlobalAveragePooling2D</span>)        │                        │               │\n",
              "├─────────────────────────────────┼────────────────────────┼───────────────┤\n",
              "│ dense_4 (<span style=\"color: #0087ff; text-decoration-color: #0087ff\">Dense</span>)                 │ ?                      │   <span style=\"color: #00af00; text-decoration-color: #00af00\">0</span> (unbuilt) │\n",
              "├─────────────────────────────────┼────────────────────────┼───────────────┤\n",
              "│ dense_5 (<span style=\"color: #0087ff; text-decoration-color: #0087ff\">Dense</span>)                 │ ?                      │   <span style=\"color: #00af00; text-decoration-color: #00af00\">0</span> (unbuilt) │\n",
              "└─────────────────────────────────┴────────────────────────┴───────────────┘\n",
              "</pre>\n"
            ]
          },
          "metadata": {}
        },
        {
          "output_type": "display_data",
          "data": {
            "text/plain": [
              "\u001b[1m Total params: \u001b[0m\u001b[38;5;34m8,769,374\u001b[0m (33.45 MB)\n"
            ],
            "text/html": [
              "<pre style=\"white-space:pre;overflow-x:auto;line-height:normal;font-family:Menlo,'DejaVu Sans Mono',consolas,'Courier New',monospace\"><span style=\"font-weight: bold\"> Total params: </span><span style=\"color: #00af00; text-decoration-color: #00af00\">8,769,374</span> (33.45 MB)\n",
              "</pre>\n"
            ]
          },
          "metadata": {}
        },
        {
          "output_type": "display_data",
          "data": {
            "text/plain": [
              "\u001b[1m Trainable params: \u001b[0m\u001b[38;5;34m0\u001b[0m (0.00 B)\n"
            ],
            "text/html": [
              "<pre style=\"white-space:pre;overflow-x:auto;line-height:normal;font-family:Menlo,'DejaVu Sans Mono',consolas,'Courier New',monospace\"><span style=\"font-weight: bold\"> Trainable params: </span><span style=\"color: #00af00; text-decoration-color: #00af00\">0</span> (0.00 B)\n",
              "</pre>\n"
            ]
          },
          "metadata": {}
        },
        {
          "output_type": "display_data",
          "data": {
            "text/plain": [
              "\u001b[1m Non-trainable params: \u001b[0m\u001b[38;5;34m8,769,374\u001b[0m (33.45 MB)\n"
            ],
            "text/html": [
              "<pre style=\"white-space:pre;overflow-x:auto;line-height:normal;font-family:Menlo,'DejaVu Sans Mono',consolas,'Courier New',monospace\"><span style=\"font-weight: bold\"> Non-trainable params: </span><span style=\"color: #00af00; text-decoration-color: #00af00\">8,769,374</span> (33.45 MB)\n",
              "</pre>\n"
            ]
          },
          "metadata": {}
        },
        {
          "output_type": "stream",
          "name": "stdout",
          "text": [
            "Epoch 1/10\n",
            "\u001b[1m2/2\u001b[0m \u001b[32m━━━━━━━━━━━━━━━━━━━━\u001b[0m\u001b[37m\u001b[0m \u001b[1m34s\u001b[0m 7s/step - accuracy: 0.0919 - loss: 1.8398 - val_accuracy: 0.1667 - val_loss: 1.8043\n",
            "Epoch 2/10\n",
            "\u001b[1m2/2\u001b[0m \u001b[32m━━━━━━━━━━━━━━━━━━━━\u001b[0m\u001b[37m\u001b[0m \u001b[1m2s\u001b[0m 552ms/step - accuracy: 0.1686 - loss: 1.8416 - val_accuracy: 0.1667 - val_loss: 1.7944\n",
            "Epoch 3/10\n",
            "\u001b[1m2/2\u001b[0m \u001b[32m━━━━━━━━━━━━━━━━━━━━\u001b[0m\u001b[37m\u001b[0m \u001b[1m2s\u001b[0m 545ms/step - accuracy: 0.1534 - loss: 1.7901 - val_accuracy: 0.3333 - val_loss: 1.7488\n",
            "Epoch 4/10\n",
            "\u001b[1m2/2\u001b[0m \u001b[32m━━━━━━━━━━━━━━━━━━━━\u001b[0m\u001b[37m\u001b[0m \u001b[1m2s\u001b[0m 611ms/step - accuracy: 0.1837 - loss: 1.8160 - val_accuracy: 0.3333 - val_loss: 1.7498\n",
            "Epoch 5/10\n",
            "\u001b[1m2/2\u001b[0m \u001b[32m━━━━━━━━━━━━━━━━━━━━\u001b[0m\u001b[37m\u001b[0m \u001b[1m2s\u001b[0m 624ms/step - accuracy: 0.2453 - loss: 1.8253 - val_accuracy: 0.5000 - val_loss: 1.7592\n",
            "Epoch 6/10\n",
            "\u001b[1m2/2\u001b[0m \u001b[32m━━━━━━━━━━━━━━━━━━━━\u001b[0m\u001b[37m\u001b[0m \u001b[1m1s\u001b[0m 597ms/step - accuracy: 0.1534 - loss: 1.8252 - val_accuracy: 0.1667 - val_loss: 1.7941\n"
          ]
        },
        {
          "output_type": "display_data",
          "data": {
            "text/plain": [
              "<Figure size 1000x800 with 2 Axes>"
            ],
            "image/png": "[encoded data removed]"
          },
          "metadata": {}
        },
        {
          "output_type": "stream",
          "name": "stdout",
          "text": [
            "\u001b[1m1/1\u001b[0m \u001b[32m━━━━━━━━━━━━━━━━━━━━\u001b[0m\u001b[37m\u001b[0m \u001b[1m1s\u001b[0m 671ms/step - accuracy: 0.2857 - loss: 1.7582\n",
            "Test accuracy: 0.2857, Test loss: 1.7582\n",
            "\u001b[1m1/1\u001b[0m \u001b[32m━━━━━━━━━━━━━━━━━━━━\u001b[0m\u001b[37m\u001b[0m \u001b[1m5s\u001b[0m 5s/step\n",
            "[[0 0 0 0 1 0]\n",
            " [0 0 0 0 2 0]\n",
            " [0 0 0 0 3 0]\n",
            " [0 0 0 0 2 0]\n",
            " [0 0 0 0 4 0]\n",
            " [0 0 0 0 2 0]]\n",
            "              precision    recall  f1-score   support\n",
            "\n",
            "   cardboard       0.00      0.00      0.00         1\n",
            "       glass       0.00      0.00      0.00         2\n",
            "       metal       0.00      0.00      0.00         3\n",
            "       paper       0.00      0.00      0.00         2\n",
            "     plastic       0.29      1.00      0.44         4\n",
            "       trash       0.00      0.00      0.00         2\n",
            "\n",
            "    accuracy                           0.29        14\n",
            "   macro avg       0.05      0.17      0.07        14\n",
            "weighted avg       0.08      0.29      0.13        14\n",
            "\n"
          ]
        },
        {
          "output_type": "stream",
          "name": "stderr",
          "text": [
            "/usr/local/lib/python3.11/dist-packages/sklearn/metrics/_classification.py:1565: UndefinedMetricWarning: Precision is ill-defined and being set to 0.0 in labels with no predicted samples. Use `zero_division` parameter to control this behavior.\n",
            "  _warn_prf(average, modifier, f\"{metric.capitalize()} is\", len(result))\n",
            "/usr/local/lib/python3.11/dist-packages/sklearn/metrics/_classification.py:1565: UndefinedMetricWarning: Precision is ill-defined and being set to 0.0 in labels with no predicted samples. Use `zero_division` parameter to control this behavior.\n",
            "  _warn_prf(average, modifier, f\"{metric.capitalize()} is\", len(result))\n",
            "/usr/local/lib/python3.11/dist-packages/sklearn/metrics/_classification.py:1565: UndefinedMetricWarning: Precision is ill-defined and being set to 0.0 in labels with no predicted samples. Use `zero_division` parameter to control this behavior.\n",
            "  _warn_prf(average, modifier, f\"{metric.capitalize()} is\", len(result))\n"
          ]
        },
        {
          "output_type": "display_data",
          "data": {
            "text/plain": [
              "<Figure size 1000x800 with 2 Axes>"
            ],
            "image/png": "[encoded data removed]"
          },
          "metadata": {}
        },
        {
          "output_type": "stream",
          "name": "stdout",
          "text": [
            "It looks like you are running Gradio on a hosted a Jupyter notebook. For the Gradio app to work, sharing must be enabled. Automatically setting `share=True` (you can turn this off by setting `share=False` in `launch()` explicitly).\n",
            "\n",
            "Colab notebook detected. This cell will run indefinitely so that you can see errors and logs. To turn off, set debug=False in launch().\n",
            "* Running on public URL: https://11e1e91c7a01c306ff.gradio.live\n",
            "\n",
            "This share link expires in 1 week. For free permanent hosting and GPU upgrades, run `gradio deploy` from the terminal in the working directory to deploy to Hugging Face Spaces (https://huggingface.co/spaces)\n"
          ]
        },
        {
          "output_type": "display_data",
          "data": {
            "text/plain": [
              "<IPython.core.display.HTML object>"
            ],
            "text/html": [
              "<div><iframe src=\"https://11e1e91c7a01c306ff.gradio.live\" width=\"100%\" height=\"500\" allow=\"autoplay; camera; microphone; clipboard-read; clipboard-write;\" frameborder=\"0\" allowfullscreen></iframe></div>"
            ]
          },
          "metadata": {}
        },
        {
          "output_type": "stream",
          "name": "stdout",
          "text": [
            "\u001b[1m1/1\u001b[0m \u001b[32m━━━━━━━━━━━━━━━━━━━━\u001b[0m\u001b[37m\u001b[0m \u001b[1m4s\u001b[0m 4s/step\n",
            "\u001b[1m1/1\u001b[0m \u001b[32m━━━━━━━━━━━━━━━━━━━━\u001b[0m\u001b[37m\u001b[0m \u001b[1m0s\u001b[0m 188ms/step\n",
            "\u001b[1m1/1\u001b[0m \u001b[32m━━━━━━━━━━━━━━━━━━━━\u001b[0m\u001b[37m\u001b[0m \u001b[1m0s\u001b[0m 104ms/step\n"
          ]
        }
      ]
    }
  ]
}